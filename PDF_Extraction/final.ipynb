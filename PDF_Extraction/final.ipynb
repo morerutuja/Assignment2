{
 "cells": [
  {
   "cell_type": "code",
   "execution_count": 1,
   "id": "eb2b7292",
   "metadata": {},
   "outputs": [
    {
     "name": "stdout",
     "output_type": "stream",
     "text": [
      "Requirement already satisfied: PyPDF2 in /Users/rutu/opt/anaconda3/lib/python3.9/site-packages (3.0.1)\n",
      "Requirement already satisfied: typing_extensions>=3.10.0.0 in /Users/rutu/opt/anaconda3/lib/python3.9/site-packages (from PyPDF2) (4.3.0)\n"
     ]
    }
   ],
   "source": [
    "%pip install PyPDF2"
   ]
  },
  {
   "cell_type": "code",
   "execution_count": 2,
   "id": "414c3a0f",
   "metadata": {},
   "outputs": [],
   "source": [
    "import os\n",
    "import PyPDF2\n",
    "import re\n",
    "from pathlib import Path\n",
    "import xml.etree.ElementTree as ET\n",
    "import re\n",
    "import os"
   ]
  },
  {
   "cell_type": "code",
   "execution_count": 4,
   "id": "4e7d2623",
   "metadata": {},
   "outputs": [
    {
     "name": "stdout",
     "output_type": "stream",
     "text": [
      "Cloning into 'grobid_client_python'...\n",
      "remote: Enumerating objects: 347, done.\u001b[K\n",
      "remote: Counting objects: 100% (164/164), done.\u001b[K\n",
      "remote: Compressing objects: 100% (72/72), done.\u001b[K\n",
      "remote: Total 347 (delta 113), reused 102 (delta 91), pack-reused 183\u001b[K\n",
      "Receiving objects: 100% (347/347), 1.49 MiB | 8.82 MiB/s, done.\n",
      "Resolving deltas: 100% (204/204), done.\n"
     ]
    }
   ],
   "source": [
    "!git clone https://github.com/kermitt2/grobid_client_python\n"
   ]
  },
  {
   "cell_type": "code",
   "execution_count": 5,
   "id": "5d3a9b80",
   "metadata": {},
   "outputs": [
    {
     "name": "stdout",
     "output_type": "stream",
     "text": [
      "/Users/rutu/Downloads/NEU/SEM3/BigData/Assignment2/Demo/grobid_client_python\n"
     ]
    }
   ],
   "source": [
    "%cd grobid_client_python\n"
   ]
  },
  {
   "cell_type": "code",
   "execution_count": 6,
   "id": "a906a0d6",
   "metadata": {},
   "outputs": [
    {
     "name": "stdout",
     "output_type": "stream",
     "text": [
      "running install\n",
      "/Users/rutu/opt/anaconda3/lib/python3.9/site-packages/setuptools/command/install.py:34: SetuptoolsDeprecationWarning: setup.py install is deprecated. Use build and pip and other standards-based tools.\n",
      "  warnings.warn(\n",
      "/Users/rutu/opt/anaconda3/lib/python3.9/site-packages/setuptools/command/easy_install.py:144: EasyInstallDeprecationWarning: easy_install command is deprecated. Use build and pip and other standards-based tools.\n",
      "  warnings.warn(\n",
      "running bdist_egg\n",
      "running egg_info\n",
      "creating grobid_client_python.egg-info\n",
      "writing grobid_client_python.egg-info/PKG-INFO\n",
      "writing dependency_links to grobid_client_python.egg-info/dependency_links.txt\n",
      "writing entry points to grobid_client_python.egg-info/entry_points.txt\n",
      "writing requirements to grobid_client_python.egg-info/requires.txt\n",
      "writing top-level names to grobid_client_python.egg-info/top_level.txt\n",
      "writing manifest file 'grobid_client_python.egg-info/SOURCES.txt'\n",
      "reading manifest file 'grobid_client_python.egg-info/SOURCES.txt'\n",
      "reading manifest template 'MANIFEST.in'\n",
      "adding license file 'LICENSE'\n",
      "writing manifest file 'grobid_client_python.egg-info/SOURCES.txt'\n",
      "installing library code to build/bdist.macosx-10.9-x86_64/egg\n",
      "running install_lib\n",
      "running build_py\n",
      "creating build\n",
      "creating build/lib\n",
      "creating build/lib/grobid_client\n",
      "copying grobid_client/client.py -> build/lib/grobid_client\n",
      "copying grobid_client/__init__.py -> build/lib/grobid_client\n",
      "copying grobid_client/grobid_client.py -> build/lib/grobid_client\n",
      "creating build/bdist.macosx-10.9-x86_64\n",
      "creating build/bdist.macosx-10.9-x86_64/egg\n",
      "creating build/bdist.macosx-10.9-x86_64/egg/grobid_client\n",
      "copying build/lib/grobid_client/client.py -> build/bdist.macosx-10.9-x86_64/egg/grobid_client\n",
      "copying build/lib/grobid_client/__init__.py -> build/bdist.macosx-10.9-x86_64/egg/grobid_client\n",
      "copying build/lib/grobid_client/grobid_client.py -> build/bdist.macosx-10.9-x86_64/egg/grobid_client\n",
      "byte-compiling build/bdist.macosx-10.9-x86_64/egg/grobid_client/client.py to client.cpython-39.pyc\n",
      "byte-compiling build/bdist.macosx-10.9-x86_64/egg/grobid_client/__init__.py to __init__.cpython-39.pyc\n",
      "byte-compiling build/bdist.macosx-10.9-x86_64/egg/grobid_client/grobid_client.py to grobid_client.cpython-39.pyc\n",
      "creating build/bdist.macosx-10.9-x86_64/egg/EGG-INFO\n",
      "copying grobid_client_python.egg-info/PKG-INFO -> build/bdist.macosx-10.9-x86_64/egg/EGG-INFO\n",
      "copying grobid_client_python.egg-info/SOURCES.txt -> build/bdist.macosx-10.9-x86_64/egg/EGG-INFO\n",
      "copying grobid_client_python.egg-info/dependency_links.txt -> build/bdist.macosx-10.9-x86_64/egg/EGG-INFO\n",
      "copying grobid_client_python.egg-info/entry_points.txt -> build/bdist.macosx-10.9-x86_64/egg/EGG-INFO\n",
      "copying grobid_client_python.egg-info/requires.txt -> build/bdist.macosx-10.9-x86_64/egg/EGG-INFO\n",
      "copying grobid_client_python.egg-info/top_level.txt -> build/bdist.macosx-10.9-x86_64/egg/EGG-INFO\n",
      "zip_safe flag not set; analyzing archive contents...\n",
      "creating dist\n",
      "creating 'dist/grobid_client_python-0.0.8-py3.9.egg' and adding 'build/bdist.macosx-10.9-x86_64/egg' to it\n",
      "removing 'build/bdist.macosx-10.9-x86_64/egg' (and everything under it)\n",
      "Processing grobid_client_python-0.0.8-py3.9.egg\n",
      "Removing /Users/rutu/opt/anaconda3/lib/python3.9/site-packages/grobid_client_python-0.0.8-py3.9.egg\n",
      "Copying grobid_client_python-0.0.8-py3.9.egg to /Users/rutu/opt/anaconda3/lib/python3.9/site-packages\n",
      "grobid-client-python 0.0.8 is already the active version in easy-install.pth\n",
      "Installing grobid_client script to /Users/rutu/opt/anaconda3/bin\n",
      "\n",
      "Installed /Users/rutu/opt/anaconda3/lib/python3.9/site-packages/grobid_client_python-0.0.8-py3.9.egg\n",
      "Processing dependencies for grobid-client-python==0.0.8\n",
      "Searching for requests==2.28.1\n",
      "Best match: requests 2.28.1\n",
      "Adding requests 2.28.1 to easy-install.pth file\n",
      "\n",
      "Using /Users/rutu/opt/anaconda3/lib/python3.9/site-packages\n",
      "Searching for certifi==2023.7.22\n",
      "Best match: certifi 2023.7.22\n",
      "Adding certifi 2023.7.22 to easy-install.pth file\n",
      "\n",
      "Using /Users/rutu/opt/anaconda3/lib/python3.9/site-packages\n",
      "Searching for urllib3==1.26.11\n",
      "Best match: urllib3 1.26.11\n",
      "Adding urllib3 1.26.11 to easy-install.pth file\n",
      "\n",
      "Using /Users/rutu/opt/anaconda3/lib/python3.9/site-packages\n",
      "Searching for idna==3.3\n",
      "Best match: idna 3.3\n",
      "Adding idna 3.3 to easy-install.pth file\n",
      "\n",
      "Using /Users/rutu/opt/anaconda3/lib/python3.9/site-packages\n",
      "Searching for charset-normalizer==2.0.4\n",
      "Best match: charset-normalizer 2.0.4\n",
      "Adding charset-normalizer 2.0.4 to easy-install.pth file\n",
      "Installing normalizer script to /Users/rutu/opt/anaconda3/bin\n",
      "\n",
      "Using /Users/rutu/opt/anaconda3/lib/python3.9/site-packages\n",
      "Finished processing dependencies for grobid-client-python==0.0.8\n"
     ]
    }
   ],
   "source": [
    "!python3 setup.py install"
   ]
  },
  {
   "cell_type": "code",
   "execution_count": 8,
   "id": "1572ae6e",
   "metadata": {},
   "outputs": [
    {
     "name": "stdout",
     "output_type": "stream",
     "text": [
      "WARNING: The requested image's platform (linux/amd64) does not match the detected host platform (linux/arm64/v8) and no specific platform was requested\n",
      "WARN  [2024-02-14 03:10:15,505] org.hibernate.validator.internal.properties.javabean.JavaBeanExecutable: HV000254: Missing parameter metadata for ResponseMeteredLevel(String, int), which declares implicit or synthetic parameters. Automatic resolution of generic type information for method parameters may yield incorrect results if multiple parameters have the same erasure. To solve this, compile your code with the '-parameters' flag.\n",
      "[Wapiti] Loading model: \"/opt/grobid/grobid-home/models/affiliation-address/model.wapiti\"\n",
      "Model path: /opt/grobid/grobid-home/models/affiliation-address/model.wapiti\n",
      "[Wapiti] Loading model: \"/opt/grobid/grobid-home/models/name/header/model.wapiti\"\n",
      "Model path: /opt/grobid/grobid-home/models/name/header/model.wapiti\n",
      "[Wapiti] Loading model: \"/opt/grobid/grobid-home/models/name/citation/model.wapiti\"\n",
      "Model path: /opt/grobid/grobid-home/models/name/citation/model.wapiti\n",
      "[Wapiti] Loading model: \"/opt/grobid/grobid-home/models/header/model.wapiti\"\n",
      "Model path: /opt/grobid/grobid-home/models/header/model.wapiti\n",
      "[Wapiti] Loading model: \"/opt/grobid/grobid-home/models/date/model.wapiti\"\n",
      "Model path: /opt/grobid/grobid-home/models/date/model.wapiti\n",
      "[Wapiti] Loading model: \"/opt/grobid/grobid-home/models/citation/model.wapiti\"\n",
      "Model path: /opt/grobid/grobid-home/models/citation/model.wapiti\n",
      "[Wapiti] Loading model: \"/opt/grobid/grobid-home/models/fulltext/model.wapiti\"\n",
      "Model path: /opt/grobid/grobid-home/models/fulltext/model.wapiti\n",
      "[Wapiti] Loading model: \"/opt/grobid/grobid-home/models/segmentation/model.wapiti\"\n",
      "Model path: /opt/grobid/grobid-home/models/segmentation/model.wapiti\n",
      "[Wapiti] Loading model: \"/opt/grobid/grobid-home/models/reference-segmenter/model.wapiti\"\n",
      "Model path: /opt/grobid/grobid-home/models/reference-segmenter/model.wapiti\n",
      "[Wapiti] Loading model: \"/opt/grobid/grobid-home/models/figure/model.wapiti\"\n",
      "Model path: /opt/grobid/grobid-home/models/figure/model.wapiti\n",
      "[Wapiti] Loading model: \"/opt/grobid/grobid-home/models/table/model.wapiti\"\n",
      "Model path: /opt/grobid/grobid-home/models/table/model.wapiti\n",
      "[Wapiti] Loading model: \"/opt/grobid/grobid-home/models/funding-acknowledgement/model.wapiti\"\n",
      "Model path: /opt/grobid/grobid-home/models/funding-acknowledgement/model.wapiti\n",
      "^C\n"
     ]
    }
   ],
   "source": [
    "!docker run -t --rm -p 8070:8070 lfoppiano/grobid:0.8.0"
   ]
  },
  {
   "cell_type": "code",
   "execution_count": 35,
   "id": "c019085a",
   "metadata": {},
   "outputs": [],
   "source": [
    "## Extract text using PyPDF2\n",
    "\n",
    "import os\n",
    "import PyPDF2\n",
    "\n",
    "def extract_text_pypdf(pdf_path, output_folder):\n",
    "    if not os.path.exists(output_folder):\n",
    "        os.makedirs(output_folder)\n",
    "    text = \"\"\n",
    "    with open(pdf_path, 'rb') as file:\n",
    "        reader = PyPDF2.PdfReader(file)\n",
    "        for page_num in range(len(reader.pages)):\n",
    "            text += reader.pages[page_num].extract_text()\n",
    "    output_filename = os.path.join(output_folder, f'PyPDF_RR_{os.path.basename(pdf_path)[:-4]}_combined.txt')\n",
    "    with open(output_filename, 'w') as file:\n",
    "        file.write(text)\n",
    "    print(f\"Text extracted from {pdf_path} using PyPDF2 and saved to {output_filename}\")\n"
   ]
  },
  {
   "cell_type": "code",
   "execution_count": 36,
   "id": "090443a9",
   "metadata": {},
   "outputs": [],
   "source": [
    "## Use Grobid to convert PDF to XML\n",
    "\n",
    "import subprocess\n",
    "\n",
    "def convert_to_xml_with_grobid(input_folder, output_folder):\n",
    "    subprocess.run(['python3', '-m', 'grobid_client.grobid_client', '--input', input_folder, '--output', output_folder, 'processFulltextDocument'])\n",
    "    print(f\"PDF files in {input_folder} converted to XML and saved to {output_folder}\")\n"
   ]
  },
  {
   "cell_type": "code",
   "execution_count": 37,
   "id": "473635f5",
   "metadata": {},
   "outputs": [],
   "source": [
    "## Convert XML to text using Grobid\n",
    "\n",
    "def convert_xml_to_text(input_folder, output_folder):\n",
    "    for xml_file in os.listdir(input_folder):\n",
    "        if xml_file.endswith('.xml'):\n",
    "            subprocess.run(['python3', '-m', 'grobid_client.grobid_client', '--input', os.path.join(input_folder, xml_file), '--output', os.path.join(output_folder, f'Grobid_RR_{xml_file[:-4]}_combined.txt'), 'processFulltextDocument'])\n",
    "    print(f\"XML files in {input_folder} converted to text and saved to {output_folder}\")\n"
   ]
  },
  {
   "cell_type": "code",
   "execution_count": 38,
   "id": "9f0b3095",
   "metadata": {},
   "outputs": [
    {
     "name": "stdout",
     "output_type": "stream",
     "text": [
      "Text extracted from /Users/rutu/Downloads/NEU/SEM3/BigData/Assignment2/Archive 2/2024-l3-topics-combined-2.pdf using PyPDF2 and saved to /Users/rutu/Downloads/NEU/SEM3/PyPDF/PyPDF_RR_2024-l3-topics-combined-2_combined.txt\n",
      "Text extracted from /Users/rutu/Downloads/NEU/SEM3/BigData/Assignment2/Archive 2/2024-l1-topics-combined-2.pdf using PyPDF2 and saved to /Users/rutu/Downloads/NEU/SEM3/PyPDF/PyPDF_RR_2024-l1-topics-combined-2_combined.txt\n",
      "Text extracted from /Users/rutu/Downloads/NEU/SEM3/BigData/Assignment2/Archive 2/2024-l2-topics-combined-2.pdf using PyPDF2 and saved to /Users/rutu/Downloads/NEU/SEM3/PyPDF/PyPDF_RR_2024-l2-topics-combined-2_combined.txt\n",
      "output directory does not exist but will be created: /Users/rutu/Downloads/NEU/SEM3/GROBID\n",
      "Successfully created the directory /Users/rutu/Downloads/NEU/SEM3/GROBID\n",
      "GROBID server does not appear up and running, the connection to the server failed\n",
      "PDF files in /Users/rutu/Downloads/NEU/SEM3/BigData/Assignment2/Archive 2 converted to XML and saved to /Users/rutu/Downloads/NEU/SEM3/GROBID\n",
      "XML files in /Users/rutu/Downloads/NEU/SEM3/GROBID converted to text and saved to /Users/rutu/Downloads/NEU/SEM3/GROBID\n"
     ]
    }
   ],
   "source": [
    "## Run the extraction process\n",
    "\n",
    "pdf_folder = '/Users/rutu/Downloads/NEU/SEM3/BigData/Assignment2/Archive 2'\n",
    "output_folder_pypdf = '/Users/rutu/Downloads/NEU/SEM3/PyPDF'\n",
    "output_folder_grobid = '/Users/rutu/Downloads/NEU/SEM3/GROBID'\n",
    "\n",
    "for filename in os.listdir(pdf_folder):\n",
    "    if filename.endswith('.pdf'):\n",
    "        extract_text_pypdf(os.path.join(pdf_folder, filename), output_folder_pypdf)\n",
    "\n"
   ]
  },
  {
   "cell_type": "code",
   "execution_count": 43,
   "id": "d472d40f",
   "metadata": {},
   "outputs": [
    {
     "name": "stdout",
     "output_type": "stream",
     "text": [
      "GROBID server is up and running\n",
      "Processing of /Users/rutu/Downloads/NEU/SEM3/BigData/Assignment2/Archive 2/2024-l2-topics-combined-2.pdf failed with error 408 , None\n",
      "Processing of /Users/rutu/Downloads/NEU/SEM3/BigData/Assignment2/Archive 2/2024-l1-topics-combined-2.pdf failed with error 408 , None\n",
      "Processing of /Users/rutu/Downloads/NEU/SEM3/BigData/Assignment2/Archive 2/2024-l3-topics-combined-2.pdf failed with error 408 , None\n",
      "runtime: 60.015 seconds \n",
      "PDF files in /Users/rutu/Downloads/NEU/SEM3/BigData/Assignment2/Archive 2 converted to XML and saved to /Users/rutu/Downloads/NEU/SEM3/GROBID\n",
      "XML files in /Users/rutu/Downloads/NEU/SEM3/GROBID converted to text and saved to /Users/rutu/Downloads/NEU/SEM3/GROBID\n"
     ]
    }
   ],
   "source": [
    "convert_to_xml_with_grobid(pdf_folder, output_folder_grobid)\n",
    "convert_xml_to_text(output_folder_grobid, output_folder_grobid)\n"
   ]
  },
  {
   "cell_type": "code",
   "execution_count": null,
   "id": "c8621cb3",
   "metadata": {},
   "outputs": [],
   "source": []
  },
  {
   "cell_type": "code",
   "execution_count": null,
   "id": "0b08f772",
   "metadata": {},
   "outputs": [],
   "source": []
  },
  {
   "cell_type": "code",
   "execution_count": null,
   "id": "2cd99d0b",
   "metadata": {},
   "outputs": [],
   "source": []
  },
  {
   "cell_type": "code",
   "execution_count": null,
   "id": "f425197b",
   "metadata": {},
   "outputs": [],
   "source": []
  },
  {
   "cell_type": "code",
   "execution_count": null,
   "id": "8f61cc8e",
   "metadata": {},
   "outputs": [],
   "source": []
  },
  {
   "cell_type": "code",
   "execution_count": null,
   "id": "eea63dee",
   "metadata": {},
   "outputs": [],
   "source": []
  },
  {
   "cell_type": "code",
   "execution_count": null,
   "id": "92e9f80e",
   "metadata": {},
   "outputs": [],
   "source": []
  },
  {
   "cell_type": "code",
   "execution_count": null,
   "id": "1c7ee295",
   "metadata": {},
   "outputs": [],
   "source": []
  }
 ],
 "metadata": {
  "kernelspec": {
   "display_name": "Python 3 (ipykernel)",
   "language": "python",
   "name": "python3"
  },
  "language_info": {
   "codemirror_mode": {
    "name": "ipython",
    "version": 3
   },
   "file_extension": ".py",
   "mimetype": "text/x-python",
   "name": "python",
   "nbconvert_exporter": "python",
   "pygments_lexer": "ipython3",
   "version": "3.9.13"
  }
 },
 "nbformat": 4,
 "nbformat_minor": 5
}
