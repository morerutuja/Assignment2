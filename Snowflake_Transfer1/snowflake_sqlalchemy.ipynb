{
 "cells": [
  {
   "cell_type": "code",
   "execution_count": 1,
   "id": "6cc28967",
   "metadata": {
    "execution": {
     "iopub.execute_input": "2024-02-15T03:05:57.213193Z",
     "iopub.status.busy": "2024-02-15T03:05:57.212775Z",
     "iopub.status.idle": "2024-02-15T03:05:58.876957Z",
     "shell.execute_reply": "2024-02-15T03:05:58.876378Z"
    }
   },
   "outputs": [
    {
     "name": "stdout",
     "output_type": "stream",
     "text": [
      "Requirement already satisfied: python-dotenv in /opt/homebrew/Cellar/jupyterlab/4.0.10/libexec/lib/python3.12/site-packages (from -r requirements.txt (line 1)) (1.0.1)\r\n",
      "Requirement already satisfied: snowflake-connector-python in /opt/homebrew/Cellar/jupyterlab/4.0.10/libexec/lib/python3.12/site-packages (from -r requirements.txt (line 2)) (3.7.0)\r\n",
      "Requirement already satisfied: pandas in /opt/homebrew/Cellar/jupyterlab/4.0.10/libexec/lib/python3.12/site-packages (from -r requirements.txt (line 3)) (2.2.0)\r\n",
      "Requirement already satisfied: SQLAlchemy in /opt/homebrew/Cellar/jupyterlab/4.0.10/libexec/lib/python3.12/site-packages (from -r requirements.txt (line 4)) (1.4.51)\r\n",
      "Requirement already satisfied: snowflake-sqlalchemy in /opt/homebrew/Cellar/jupyterlab/4.0.10/libexec/lib/python3.12/site-packages (from -r requirements.txt (line 5)) (1.5.1)\r\n",
      "Requirement already satisfied: asn1crypto<2.0.0,>0.24.0 in /opt/homebrew/Cellar/jupyterlab/4.0.10/libexec/lib/python3.12/site-packages (from snowflake-connector-python->-r requirements.txt (line 2)) (1.5.1)\r\n",
      "Requirement already satisfied: cffi<2.0.0,>=1.9 in /opt/homebrew/opt/cffi/lib/python3.12/site-packages (from snowflake-connector-python->-r requirements.txt (line 2)) (1.16.0)\r\n",
      "Requirement already satisfied: cryptography<42.0.0,>=3.1.0 in /opt/homebrew/Cellar/jupyterlab/4.0.10/libexec/lib/python3.12/site-packages (from snowflake-connector-python->-r requirements.txt (line 2)) (41.0.7)\r\n",
      "Requirement already satisfied: pyOpenSSL<24.0.0,>=16.2.0 in /opt/homebrew/Cellar/jupyterlab/4.0.10/libexec/lib/python3.12/site-packages (from snowflake-connector-python->-r requirements.txt (line 2)) (23.3.0)\r\n",
      "Requirement already satisfied: pyjwt<3.0.0 in /opt/homebrew/Cellar/jupyterlab/4.0.10/libexec/lib/python3.12/site-packages (from snowflake-connector-python->-r requirements.txt (line 2)) (2.8.0)\r\n",
      "Requirement already satisfied: pytz in /opt/homebrew/Cellar/jupyterlab/4.0.10/libexec/lib/python3.12/site-packages (from snowflake-connector-python->-r requirements.txt (line 2)) (2024.1)\r\n",
      "Requirement already satisfied: requests<3.0.0 in /opt/homebrew/opt/python-requests/lib/python3.12/site-packages (from snowflake-connector-python->-r requirements.txt (line 2)) (2.31.0)\r\n",
      "Requirement already satisfied: packaging in /opt/homebrew/opt/python-packaging/lib/python3.12/site-packages (from snowflake-connector-python->-r requirements.txt (line 2)) (23.2)\r\n",
      "Requirement already satisfied: charset-normalizer<4,>=2 in /opt/homebrew/opt/python-charset-normalizer/lib/python3.12/site-packages (from snowflake-connector-python->-r requirements.txt (line 2)) (3.3.2)\r\n",
      "Requirement already satisfied: idna<4,>=2.5 in /opt/homebrew/opt/python-idna/lib/python3.12/site-packages (from snowflake-connector-python->-r requirements.txt (line 2)) (3.6)\r\n",
      "Requirement already satisfied: certifi>=2017.4.17 in /opt/homebrew/opt/python-certifi/lib/python3.12/site-packages (from snowflake-connector-python->-r requirements.txt (line 2)) (2023.11.17)\r\n",
      "Requirement already satisfied: typing-extensions<5,>=4.3 in /opt/homebrew/Cellar/jupyterlab/4.0.10/libexec/lib/python3.12/site-packages (from snowflake-connector-python->-r requirements.txt (line 2)) (4.9.0)\r\n",
      "Requirement already satisfied: filelock<4,>=3.5 in /opt/homebrew/Cellar/jupyterlab/4.0.10/libexec/lib/python3.12/site-packages (from snowflake-connector-python->-r requirements.txt (line 2)) (3.13.1)\r\n",
      "Requirement already satisfied: sortedcontainers>=2.4.0 in /opt/homebrew/Cellar/jupyterlab/4.0.10/libexec/lib/python3.12/site-packages (from snowflake-connector-python->-r requirements.txt (line 2)) (2.4.0)\r\n",
      "Requirement already satisfied: platformdirs<4.0.0,>=2.6.0 in /opt/homebrew/Cellar/jupyterlab/4.0.10/libexec/lib/python3.12/site-packages (from snowflake-connector-python->-r requirements.txt (line 2)) (3.11.0)\r\n",
      "Requirement already satisfied: tomlkit in /opt/homebrew/Cellar/jupyterlab/4.0.10/libexec/lib/python3.12/site-packages (from snowflake-connector-python->-r requirements.txt (line 2)) (0.12.3)\r\n",
      "Requirement already satisfied: numpy<2,>=1.26.0 in /opt/homebrew/Cellar/jupyterlab/4.0.10/libexec/lib/python3.12/site-packages (from pandas->-r requirements.txt (line 3)) (1.26.4)\r\n",
      "Requirement already satisfied: python-dateutil>=2.8.2 in /opt/homebrew/opt/python-dateutil/lib/python3.12/site-packages (from pandas->-r requirements.txt (line 3)) (2.8.2)\r\n",
      "Requirement already satisfied: tzdata>=2022.7 in /opt/homebrew/Cellar/jupyterlab/4.0.10/libexec/lib/python3.12/site-packages (from pandas->-r requirements.txt (line 3)) (2024.1)\r\n",
      "Requirement already satisfied: pycparser in /opt/homebrew/opt/pycparser/lib/python3.12/site-packages (from cffi<2.0.0,>=1.9->snowflake-connector-python->-r requirements.txt (line 2)) (2.21)\r\n",
      "Requirement already satisfied: six>=1.5 in /opt/homebrew/opt/six/lib/python3.12/site-packages (from python-dateutil>=2.8.2->pandas->-r requirements.txt (line 3)) (1.16.0)\r\n",
      "Requirement already satisfied: urllib3<3,>=1.21.1 in /opt/homebrew/Cellar/jupyterlab/4.0.10/libexec/lib/python3.12/site-packages (from requests<3.0.0->snowflake-connector-python->-r requirements.txt (line 2)) (1.26.18)\r\n",
      "\r\n",
      "\u001b[1m[\u001b[0m\u001b[34;49mnotice\u001b[0m\u001b[1;39;49m]\u001b[0m\u001b[39;49m A new release of pip is available: \u001b[0m\u001b[31;49m23.3.1\u001b[0m\u001b[39;49m -> \u001b[0m\u001b[32;49m24.0\u001b[0m\r\n",
      "\u001b[1m[\u001b[0m\u001b[34;49mnotice\u001b[0m\u001b[1;39;49m]\u001b[0m\u001b[39;49m To update, run: \u001b[0m\u001b[32;49m/opt/homebrew/Cellar/jupyterlab/4.0.10/libexec/bin/python -m pip install --upgrade pip\u001b[0m\r\n",
      "Note: you may need to restart the kernel to use updated packages.\n"
     ]
    }
   ],
   "source": [
    "pip install -r requirements.txt"
   ]
  },
  {
   "cell_type": "code",
   "execution_count": 2,
   "id": "db2f2ae3",
   "metadata": {
    "execution": {
     "iopub.execute_input": "2024-02-15T03:05:58.879647Z",
     "iopub.status.busy": "2024-02-15T03:05:58.879430Z",
     "iopub.status.idle": "2024-02-15T03:05:59.702054Z",
     "shell.execute_reply": "2024-02-15T03:05:59.701566Z"
    }
   },
   "outputs": [],
   "source": [
    "from dotenv import load_dotenv\n",
    "import os\n",
    "import snowflake.connector\n",
    "import pandas as pd\n",
    "from sqlalchemy import create_engine\n",
    "from snowflake.sqlalchemy import URL"
   ]
  },
  {
   "cell_type": "code",
   "execution_count": 3,
   "id": "771f05dd",
   "metadata": {
    "execution": {
     "iopub.execute_input": "2024-02-15T03:05:59.704265Z",
     "iopub.status.busy": "2024-02-15T03:05:59.704040Z",
     "iopub.status.idle": "2024-02-15T03:06:04.999983Z",
     "shell.execute_reply": "2024-02-15T03:06:04.999509Z"
    }
   },
   "outputs": [
    {
     "name": "stderr",
     "output_type": "stream",
     "text": [
      "/var/folders/dj/wcp4hvwd7wzglrm85gjck8lr0000gn/T/ipykernel_32194/519212564.py:26: RemovedIn20Warning: Deprecated API features detected! These feature(s) are not compatible with SQLAlchemy 2.0. To prevent incompatible upgrades prior to updating applications, ensure requirements files are pinned to \"sqlalchemy<2.0\". Set environment variable SQLALCHEMY_WARN_20=1 to show all deprecation warnings.  Set environment variable SQLALCHEMY_SILENCE_UBER_WARNING=1 to silence this message. (Background on SQLAlchemy 2.0 at: https://sqlalche.me/e/b8d9)\n",
      "  conn.execute(\"CREATE DATABASE IF NOT EXISTS SF_DB_CASE1\")\n"
     ]
    },
    {
     "name": "stdout",
     "output_type": "stream",
     "text": [
      "Snowflake setup completed successfully.\n",
      "Failed to transfer data to Snowflake: 'Engine' object has no attribute 'cursor'\n"
     ]
    },
    {
     "name": "stderr",
     "output_type": "stream",
     "text": [
      "/var/folders/dj/wcp4hvwd7wzglrm85gjck8lr0000gn/T/ipykernel_32194/519212564.py:60: UserWarning: pandas only supports SQLAlchemy connectable (engine/connection) or database string URI or sqlite3 DBAPI2 connection. Other DBAPI2 objects are not tested. Please consider using SQLAlchemy.\n",
      "  df.to_sql(name=table_name, con=engine, index=False, if_exists='append', method='multi')\n"
     ]
    }
   ],
   "source": [
    "load_dotenv()\n",
    "\n",
    "# Retrieve Snowflake credentials from environment variables\n",
    "user = os.getenv('SNOWFLAKE_USER')\n",
    "password = os.getenv('SNOWFLAKE_PASSWORD')\n",
    "account = os.getenv('SNOWFLAKE_ACCOUNT')\n",
    "warehouse = 'SF_WH_CASE1'\n",
    "database = 'SF_DB_CASE1'\n",
    "schema = 'SF_CASE1'\n",
    "role = 'SYSADMIN'  # Replace with your full access role\n",
    "\n",
    "# Configure SQLAlchemy engine for Snowflake\n",
    "engine = create_engine(URL(\n",
    "    account=account,\n",
    "    user=user,\n",
    "    password=password,\n",
    "    database=database,\n",
    "    schema=schema,\n",
    "    warehouse=warehouse,\n",
    "    role=role,\n",
    "))\n",
    "\n",
    "# Ensure the Snowflake setup is completed successfully.\n",
    "# This part can be moved to a separate setup script if it doesn't need to run every time.\n",
    "with engine.connect() as conn:\n",
    "    conn.execute(\"CREATE DATABASE IF NOT EXISTS SF_DB_CASE1\")\n",
    "    conn.execute(\"USE DATABASE SF_DB_CASE1\")\n",
    "    conn.execute(\"\"\"\n",
    "        CREATE WAREHOUSE IF NOT EXISTS SF_WH_CASE1\n",
    "        WITH WAREHOUSE_SIZE = 'MEDIUM'\n",
    "        WAREHOUSE_TYPE = 'STANDARD'\n",
    "        AUTO_SUSPEND = 300\n",
    "        AUTO_RESUME = TRUE;\n",
    "    \"\"\")\n",
    "    conn.execute(\"CREATE SCHEMA IF NOT EXISTS SF_CASE1\")\n",
    "    conn.execute(\"USE SCHEMA SF_CASE1\")\n",
    "    conn.execute(\"\"\"\n",
    "        CREATE OR REPLACE TABLE SUMMARY_FINAL (\n",
    "            NAME_OF_THE_TOPIC VARCHAR(500),\n",
    "            YEAR VARCHAR(255),\n",
    "            LEVEL VARCHAR(255),\n",
    "            INTRODUCTION_SUMMARY VARCHAR(10000),\n",
    "            LEARNING_OUTCOMES VARCHAR(10000),\n",
    "            LINK_TO_THE_SUMMARY_PAGE VARCHAR(1000),\n",
    "            LINK_TO_THE_PDF_FILE VARCHAR(1000)\n",
    "        );\n",
    "    \"\"\")\n",
    "    print(\"Snowflake setup completed successfully.\")\n",
    "\n",
    "# Load CSV data into DataFrame\n",
    "csv_file_path = '../Webscrape/extracted_updated.csv'  # Adjust this path as needed\n",
    "df = pd.read_csv(csv_file_path)\n",
    "\n",
    "# Prepare DataFrame for Snowflake\n",
    "df.columns = [col.upper() for col in df.columns]\n",
    "\n",
    "# Transfer data from CSV to Snowflake\n",
    "table_name = 'SUMMARY_FINAL'\n",
    "try:\n",
    "    df.to_sql(name=table_name, con=engine, index=False, if_exists='append', method='multi')\n",
    "    print(\"Data transfer to Snowflake completed successfully.\")\n",
    "except Exception as e:\n",
    "    print(f\"Failed to transfer data to Snowflake: {e}\")\n"
   ]
  },
  {
   "cell_type": "code",
   "execution_count": null,
   "id": "6b0f87cc",
   "metadata": {},
   "outputs": [],
   "source": []
  }
 ],
 "metadata": {
  "kernelspec": {
   "display_name": "Python 3 (ipykernel)",
   "language": "python",
   "name": "python3"
  },
  "language_info": {
   "codemirror_mode": {
    "name": "ipython",
    "version": 3
   },
   "file_extension": ".py",
   "mimetype": "text/x-python",
   "name": "python",
   "nbconvert_exporter": "python",
   "pygments_lexer": "ipython3",
   "version": "3.12.1"
  }
 },
 "nbformat": 4,
 "nbformat_minor": 5
}
