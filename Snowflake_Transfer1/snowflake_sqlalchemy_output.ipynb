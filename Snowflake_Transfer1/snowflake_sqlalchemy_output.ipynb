{
 "cells": [
  {
   "cell_type": "markdown",
   "id": "8f8d5a62",
   "metadata": {
    "tags": [
     "papermill-error-cell-tag"
    ]
   },
   "source": [
    "<span style=\"color:red; font-family:Helvetica Neue, Helvetica, Arial, sans-serif; font-size:2em;\">An Exception was encountered at '<a href=\"#papermill-error-cell\">In [3]</a>'.</span>"
   ]
  },
  {
   "cell_type": "code",
   "execution_count": 1,
   "id": "6cc28967",
   "metadata": {
    "execution": {
     "iopub.execute_input": "2024-02-15T02:13:00.578612Z",
     "iopub.status.busy": "2024-02-15T02:13:00.578218Z",
     "iopub.status.idle": "2024-02-15T02:13:04.989756Z",
     "shell.execute_reply": "2024-02-15T02:13:04.988897Z"
    },
    "papermill": {
     "duration": 4.419988,
     "end_time": "2024-02-15T02:13:04.992089",
     "exception": false,
     "start_time": "2024-02-15T02:13:00.572101",
     "status": "completed"
    },
    "tags": []
   },
   "outputs": [
    {
     "name": "stdout",
     "output_type": "stream",
     "text": [
      "Requirement already satisfied: papermill in /Users/anirudhajoshi/opt/anaconda3/lib/python3.9/site-packages (from -r requirements.txt (line 1)) (2.5.0)\r\n"
     ]
    },
    {
     "name": "stdout",
     "output_type": "stream",
     "text": [
      "Requirement already satisfied: tqdm>=4.32.2 in /Users/anirudhajoshi/opt/anaconda3/lib/python3.9/site-packages (from papermill->-r requirements.txt (line 1)) (4.64.1)\r\n"
     ]
    },
    {
     "name": "stdout",
     "output_type": "stream",
     "text": [
      "Requirement already satisfied: nbclient>=0.2.0 in /Users/anirudhajoshi/opt/anaconda3/lib/python3.9/site-packages (from papermill->-r requirements.txt (line 1)) (0.5.13)\r\n",
      "Requirement already satisfied: tenacity>=5.0.2 in /Users/anirudhajoshi/opt/anaconda3/lib/python3.9/site-packages (from papermill->-r requirements.txt (line 1)) (8.0.1)\r\n",
      "Requirement already satisfied: click in /Users/anirudhajoshi/opt/anaconda3/lib/python3.9/site-packages (from papermill->-r requirements.txt (line 1)) (8.0.4)\r\n",
      "Requirement already satisfied: pyyaml in /Users/anirudhajoshi/opt/anaconda3/lib/python3.9/site-packages (from papermill->-r requirements.txt (line 1)) (6.0)\r\n",
      "Requirement already satisfied: entrypoints in /Users/anirudhajoshi/opt/anaconda3/lib/python3.9/site-packages (from papermill->-r requirements.txt (line 1)) (0.4)\r\n",
      "Requirement already satisfied: requests in /Users/anirudhajoshi/opt/anaconda3/lib/python3.9/site-packages (from papermill->-r requirements.txt (line 1)) (2.28.1)\r\n",
      "Requirement already satisfied: nbformat>=5.1.2 in /Users/anirudhajoshi/opt/anaconda3/lib/python3.9/site-packages (from papermill->-r requirements.txt (line 1)) (5.5.0)\r\n",
      "Requirement already satisfied: jupyter-client>=6.1.5 in /Users/anirudhajoshi/opt/anaconda3/lib/python3.9/site-packages (from nbclient>=0.2.0->papermill->-r requirements.txt (line 1)) (7.3.4)\r\n",
      "Requirement already satisfied: traitlets>=5.0.0 in /Users/anirudhajoshi/opt/anaconda3/lib/python3.9/site-packages (from nbclient>=0.2.0->papermill->-r requirements.txt (line 1)) (5.1.1)\r\n",
      "Requirement already satisfied: nest-asyncio in /Users/anirudhajoshi/opt/anaconda3/lib/python3.9/site-packages (from nbclient>=0.2.0->papermill->-r requirements.txt (line 1)) (1.5.5)\r\n",
      "Requirement already satisfied: jupyter_core in /Users/anirudhajoshi/opt/anaconda3/lib/python3.9/site-packages (from nbformat>=5.1.2->papermill->-r requirements.txt (line 1)) (4.11.1)\r\n",
      "Requirement already satisfied: fastjsonschema in /Users/anirudhajoshi/opt/anaconda3/lib/python3.9/site-packages (from nbformat>=5.1.2->papermill->-r requirements.txt (line 1)) (2.16.2)\r\n",
      "Requirement already satisfied: jsonschema>=2.6 in /Users/anirudhajoshi/opt/anaconda3/lib/python3.9/site-packages (from nbformat>=5.1.2->papermill->-r requirements.txt (line 1)) (4.16.0)\r\n"
     ]
    },
    {
     "name": "stdout",
     "output_type": "stream",
     "text": [
      "Requirement already satisfied: urllib3<1.27,>=1.21.1 in /Users/anirudhajoshi/opt/anaconda3/lib/python3.9/site-packages (from requests->papermill->-r requirements.txt (line 1)) (1.26.11)\r\n",
      "Requirement already satisfied: idna<4,>=2.5 in /Users/anirudhajoshi/opt/anaconda3/lib/python3.9/site-packages (from requests->papermill->-r requirements.txt (line 1)) (3.3)\r\n",
      "Requirement already satisfied: charset-normalizer<3,>=2 in /Users/anirudhajoshi/opt/anaconda3/lib/python3.9/site-packages (from requests->papermill->-r requirements.txt (line 1)) (2.0.4)\r\n",
      "Requirement already satisfied: certifi>=2017.4.17 in /Users/anirudhajoshi/opt/anaconda3/lib/python3.9/site-packages (from requests->papermill->-r requirements.txt (line 1)) (2022.6.15)\r\n",
      "Requirement already satisfied: pyrsistent!=0.17.0,!=0.17.1,!=0.17.2,>=0.14.0 in /Users/anirudhajoshi/opt/anaconda3/lib/python3.9/site-packages (from jsonschema>=2.6->nbformat>=5.1.2->papermill->-r requirements.txt (line 1)) (0.18.0)\r\n",
      "Requirement already satisfied: attrs>=17.4.0 in /Users/anirudhajoshi/opt/anaconda3/lib/python3.9/site-packages (from jsonschema>=2.6->nbformat>=5.1.2->papermill->-r requirements.txt (line 1)) (21.4.0)\r\n",
      "Requirement already satisfied: tornado>=6.0 in /Users/anirudhajoshi/opt/anaconda3/lib/python3.9/site-packages (from jupyter-client>=6.1.5->nbclient>=0.2.0->papermill->-r requirements.txt (line 1)) (6.1)\r\n",
      "Requirement already satisfied: pyzmq>=23.0 in /Users/anirudhajoshi/opt/anaconda3/lib/python3.9/site-packages (from jupyter-client>=6.1.5->nbclient>=0.2.0->papermill->-r requirements.txt (line 1)) (23.2.0)\r\n",
      "Requirement already satisfied: python-dateutil>=2.8.2 in /Users/anirudhajoshi/opt/anaconda3/lib/python3.9/site-packages (from jupyter-client>=6.1.5->nbclient>=0.2.0->papermill->-r requirements.txt (line 1)) (2.8.2)\r\n"
     ]
    },
    {
     "name": "stdout",
     "output_type": "stream",
     "text": [
      "Requirement already satisfied: six>=1.5 in /Users/anirudhajoshi/opt/anaconda3/lib/python3.9/site-packages (from python-dateutil>=2.8.2->jupyter-client>=6.1.5->nbclient>=0.2.0->papermill->-r requirements.txt (line 1)) (1.16.0)\r\n"
     ]
    },
    {
     "name": "stdout",
     "output_type": "stream",
     "text": [
      "Note: you may need to restart the kernel to use updated packages.\n"
     ]
    }
   ],
   "source": [
    "pip install -r requirements.txt"
   ]
  },
  {
   "cell_type": "code",
   "execution_count": 2,
   "id": "db2f2ae3",
   "metadata": {
    "execution": {
     "iopub.execute_input": "2024-02-15T02:13:04.999516Z",
     "iopub.status.busy": "2024-02-15T02:13:04.999186Z",
     "iopub.status.idle": "2024-02-15T02:13:06.662047Z",
     "shell.execute_reply": "2024-02-15T02:13:06.661459Z"
    },
    "papermill": {
     "duration": 1.671181,
     "end_time": "2024-02-15T02:13:06.666501",
     "exception": false,
     "start_time": "2024-02-15T02:13:04.995320",
     "status": "completed"
    },
    "tags": []
   },
   "outputs": [],
   "source": [
    "from dotenv import load_dotenv\n",
    "import os\n",
    "import snowflake.connector\n",
    "import pandas as pd\n",
    "from sqlalchemy import create_engine\n",
    "from snowflake.sqlalchemy import URL"
   ]
  },
  {
   "cell_type": "markdown",
   "id": "1977410d",
   "metadata": {
    "tags": [
     "papermill-error-cell-tag"
    ]
   },
   "source": [
    "<span id=\"papermill-error-cell\" style=\"color:red; font-family:Helvetica Neue, Helvetica, Arial, sans-serif; font-size:2em;\">Execution using papermill encountered an exception here and stopped:</span>"
   ]
  },
  {
   "cell_type": "code",
   "execution_count": 3,
   "id": "771f05dd",
   "metadata": {
    "execution": {
     "iopub.execute_input": "2024-02-15T02:13:06.674413Z",
     "iopub.status.busy": "2024-02-15T02:13:06.674179Z",
     "iopub.status.idle": "2024-02-15T02:13:06.848010Z",
     "shell.execute_reply": "2024-02-15T02:13:06.847086Z"
    },
    "papermill": {
     "duration": 0.179099,
     "end_time": "2024-02-15T02:13:06.850234",
     "exception": true,
     "start_time": "2024-02-15T02:13:06.671135",
     "status": "failed"
    },
    "tags": []
   },
   "outputs": [
    {
     "ename": "ProgrammingError",
     "evalue": "251005: User is empty",
     "output_type": "error",
     "traceback": [
      "\u001b[0;31m---------------------------------------------------------------------------\u001b[0m",
      "\u001b[0;31mProgrammingError\u001b[0m                          Traceback (most recent call last)",
      "\u001b[0;32m/var/folders/dj/wcp4hvwd7wzglrm85gjck8lr0000gn/T/ipykernel_3962/2279690409.py\u001b[0m in \u001b[0;36m<module>\u001b[0;34m\u001b[0m\n\u001b[1;32m     11\u001b[0m \u001b[0;34m\u001b[0m\u001b[0m\n\u001b[1;32m     12\u001b[0m \u001b[0;31m# Connect to Snowflake\u001b[0m\u001b[0;34m\u001b[0m\u001b[0;34m\u001b[0m\u001b[0m\n\u001b[0;32m---> 13\u001b[0;31m conn = snowflake.connector.connect(\n\u001b[0m\u001b[1;32m     14\u001b[0m     \u001b[0muser\u001b[0m\u001b[0;34m=\u001b[0m\u001b[0muser\u001b[0m\u001b[0;34m,\u001b[0m\u001b[0;34m\u001b[0m\u001b[0;34m\u001b[0m\u001b[0m\n\u001b[1;32m     15\u001b[0m     \u001b[0mpassword\u001b[0m\u001b[0;34m=\u001b[0m\u001b[0mpassword\u001b[0m\u001b[0;34m,\u001b[0m\u001b[0;34m\u001b[0m\u001b[0;34m\u001b[0m\u001b[0m\n",
      "\u001b[0;32m~/opt/anaconda3/lib/python3.9/site-packages/snowflake/connector/__init__.py\u001b[0m in \u001b[0;36mConnect\u001b[0;34m(**kwargs)\u001b[0m\n\u001b[1;32m     52\u001b[0m \u001b[0;34m@\u001b[0m\u001b[0mwraps\u001b[0m\u001b[0;34m(\u001b[0m\u001b[0mSnowflakeConnection\u001b[0m\u001b[0;34m.\u001b[0m\u001b[0m__init__\u001b[0m\u001b[0;34m)\u001b[0m\u001b[0;34m\u001b[0m\u001b[0;34m\u001b[0m\u001b[0m\n\u001b[1;32m     53\u001b[0m \u001b[0;32mdef\u001b[0m \u001b[0mConnect\u001b[0m\u001b[0;34m(\u001b[0m\u001b[0;34m**\u001b[0m\u001b[0mkwargs\u001b[0m\u001b[0;34m)\u001b[0m \u001b[0;34m->\u001b[0m \u001b[0mSnowflakeConnection\u001b[0m\u001b[0;34m:\u001b[0m\u001b[0;34m\u001b[0m\u001b[0;34m\u001b[0m\u001b[0m\n\u001b[0;32m---> 54\u001b[0;31m     \u001b[0;32mreturn\u001b[0m \u001b[0mSnowflakeConnection\u001b[0m\u001b[0;34m(\u001b[0m\u001b[0;34m**\u001b[0m\u001b[0mkwargs\u001b[0m\u001b[0;34m)\u001b[0m\u001b[0;34m\u001b[0m\u001b[0;34m\u001b[0m\u001b[0m\n\u001b[0m\u001b[1;32m     55\u001b[0m \u001b[0;34m\u001b[0m\u001b[0m\n\u001b[1;32m     56\u001b[0m \u001b[0;34m\u001b[0m\u001b[0m\n",
      "\u001b[0;32m~/opt/anaconda3/lib/python3.9/site-packages/snowflake/connector/connection.py\u001b[0m in \u001b[0;36m__init__\u001b[0;34m(self, connection_name, connections_file_path, **kwargs)\u001b[0m\n\u001b[1;32m    427\u001b[0m             \u001b[0mkwargs\u001b[0m \u001b[0;34m=\u001b[0m \u001b[0m_get_default_connection_params\u001b[0m\u001b[0;34m(\u001b[0m\u001b[0;34m)\u001b[0m\u001b[0;34m\u001b[0m\u001b[0;34m\u001b[0m\u001b[0m\n\u001b[1;32m    428\u001b[0m         \u001b[0mself\u001b[0m\u001b[0;34m.\u001b[0m\u001b[0m__set_error_attributes\u001b[0m\u001b[0;34m(\u001b[0m\u001b[0;34m)\u001b[0m\u001b[0;34m\u001b[0m\u001b[0;34m\u001b[0m\u001b[0m\n\u001b[0;32m--> 429\u001b[0;31m         \u001b[0mself\u001b[0m\u001b[0;34m.\u001b[0m\u001b[0mconnect\u001b[0m\u001b[0;34m(\u001b[0m\u001b[0;34m**\u001b[0m\u001b[0mkwargs\u001b[0m\u001b[0;34m)\u001b[0m\u001b[0;34m\u001b[0m\u001b[0;34m\u001b[0m\u001b[0m\n\u001b[0m\u001b[1;32m    430\u001b[0m         \u001b[0mself\u001b[0m\u001b[0;34m.\u001b[0m\u001b[0m_telemetry\u001b[0m \u001b[0;34m=\u001b[0m \u001b[0mTelemetryClient\u001b[0m\u001b[0;34m(\u001b[0m\u001b[0mself\u001b[0m\u001b[0;34m.\u001b[0m\u001b[0m_rest\u001b[0m\u001b[0;34m)\u001b[0m\u001b[0;34m\u001b[0m\u001b[0;34m\u001b[0m\u001b[0m\n\u001b[1;32m    431\u001b[0m         \u001b[0mself\u001b[0m\u001b[0;34m.\u001b[0m\u001b[0mexpired\u001b[0m \u001b[0;34m=\u001b[0m \u001b[0;32mFalse\u001b[0m\u001b[0;34m\u001b[0m\u001b[0;34m\u001b[0m\u001b[0m\n",
      "\u001b[0;32m~/opt/anaconda3/lib/python3.9/site-packages/snowflake/connector/connection.py\u001b[0m in \u001b[0;36mconnect\u001b[0;34m(self, **kwargs)\u001b[0m\n\u001b[1;32m    681\u001b[0m         \u001b[0mlogger\u001b[0m\u001b[0;34m.\u001b[0m\u001b[0mdebug\u001b[0m\u001b[0;34m(\u001b[0m\u001b[0;34m\"connect\"\u001b[0m\u001b[0;34m)\u001b[0m\u001b[0;34m\u001b[0m\u001b[0;34m\u001b[0m\u001b[0m\n\u001b[1;32m    682\u001b[0m         \u001b[0;32mif\u001b[0m \u001b[0mlen\u001b[0m\u001b[0;34m(\u001b[0m\u001b[0mkwargs\u001b[0m\u001b[0;34m)\u001b[0m \u001b[0;34m>\u001b[0m \u001b[0;36m0\u001b[0m\u001b[0;34m:\u001b[0m\u001b[0;34m\u001b[0m\u001b[0;34m\u001b[0m\u001b[0m\n\u001b[0;32m--> 683\u001b[0;31m             \u001b[0mself\u001b[0m\u001b[0;34m.\u001b[0m\u001b[0m__config\u001b[0m\u001b[0;34m(\u001b[0m\u001b[0;34m**\u001b[0m\u001b[0mkwargs\u001b[0m\u001b[0;34m)\u001b[0m\u001b[0;34m\u001b[0m\u001b[0;34m\u001b[0m\u001b[0m\n\u001b[0m\u001b[1;32m    684\u001b[0m             \u001b[0mTelemetryService\u001b[0m\u001b[0;34m.\u001b[0m\u001b[0mget_instance\u001b[0m\u001b[0;34m(\u001b[0m\u001b[0;34m)\u001b[0m\u001b[0;34m.\u001b[0m\u001b[0mupdate_context\u001b[0m\u001b[0;34m(\u001b[0m\u001b[0mkwargs\u001b[0m\u001b[0;34m)\u001b[0m\u001b[0;34m\u001b[0m\u001b[0;34m\u001b[0m\u001b[0m\n\u001b[1;32m    685\u001b[0m \u001b[0;34m\u001b[0m\u001b[0m\n",
      "\u001b[0;32m~/opt/anaconda3/lib/python3.9/site-packages/snowflake/connector/connection.py\u001b[0m in \u001b[0;36m__config\u001b[0;34m(self, **kwargs)\u001b[0m\n\u001b[1;32m   1158\u001b[0m             \u001b[0;32mif\u001b[0m \u001b[0;32mnot\u001b[0m \u001b[0mself\u001b[0m\u001b[0;34m.\u001b[0m\u001b[0muser\u001b[0m \u001b[0;32mand\u001b[0m \u001b[0mself\u001b[0m\u001b[0;34m.\u001b[0m\u001b[0m_authenticator\u001b[0m \u001b[0;34m!=\u001b[0m \u001b[0mOAUTH_AUTHENTICATOR\u001b[0m\u001b[0;34m:\u001b[0m\u001b[0;34m\u001b[0m\u001b[0;34m\u001b[0m\u001b[0m\n\u001b[1;32m   1159\u001b[0m                 \u001b[0;31m# OAuth Authentication does not require a username\u001b[0m\u001b[0;34m\u001b[0m\u001b[0;34m\u001b[0m\u001b[0m\n\u001b[0;32m-> 1160\u001b[0;31m                 Error.errorhandler_wrapper(\n\u001b[0m\u001b[1;32m   1161\u001b[0m                     \u001b[0mself\u001b[0m\u001b[0;34m,\u001b[0m\u001b[0;34m\u001b[0m\u001b[0;34m\u001b[0m\u001b[0m\n\u001b[1;32m   1162\u001b[0m                     \u001b[0;32mNone\u001b[0m\u001b[0;34m,\u001b[0m\u001b[0;34m\u001b[0m\u001b[0;34m\u001b[0m\u001b[0m\n",
      "\u001b[0;32m~/opt/anaconda3/lib/python3.9/site-packages/snowflake/connector/errors.py\u001b[0m in \u001b[0;36merrorhandler_wrapper\u001b[0;34m(connection, cursor, error_class, error_value)\u001b[0m\n\u001b[1;32m    288\u001b[0m         \"\"\"\n\u001b[1;32m    289\u001b[0m \u001b[0;34m\u001b[0m\u001b[0m\n\u001b[0;32m--> 290\u001b[0;31m         handed_over = Error.hand_to_other_handler(\n\u001b[0m\u001b[1;32m    291\u001b[0m             \u001b[0mconnection\u001b[0m\u001b[0;34m,\u001b[0m\u001b[0;34m\u001b[0m\u001b[0;34m\u001b[0m\u001b[0m\n\u001b[1;32m    292\u001b[0m             \u001b[0mcursor\u001b[0m\u001b[0;34m,\u001b[0m\u001b[0;34m\u001b[0m\u001b[0;34m\u001b[0m\u001b[0m\n",
      "\u001b[0;32m~/opt/anaconda3/lib/python3.9/site-packages/snowflake/connector/errors.py\u001b[0m in \u001b[0;36mhand_to_other_handler\u001b[0;34m(connection, cursor, error_class, error_value)\u001b[0m\n\u001b[1;32m    346\u001b[0m             \u001b[0;32mreturn\u001b[0m \u001b[0;32mTrue\u001b[0m\u001b[0;34m\u001b[0m\u001b[0;34m\u001b[0m\u001b[0m\n\u001b[1;32m    347\u001b[0m         \u001b[0;32melif\u001b[0m \u001b[0mconnection\u001b[0m \u001b[0;32mis\u001b[0m \u001b[0;32mnot\u001b[0m \u001b[0;32mNone\u001b[0m\u001b[0;34m:\u001b[0m\u001b[0;34m\u001b[0m\u001b[0;34m\u001b[0m\u001b[0m\n\u001b[0;32m--> 348\u001b[0;31m             \u001b[0mconnection\u001b[0m\u001b[0;34m.\u001b[0m\u001b[0merrorhandler\u001b[0m\u001b[0;34m(\u001b[0m\u001b[0mconnection\u001b[0m\u001b[0;34m,\u001b[0m \u001b[0mcursor\u001b[0m\u001b[0;34m,\u001b[0m \u001b[0merror_class\u001b[0m\u001b[0;34m,\u001b[0m \u001b[0merror_value\u001b[0m\u001b[0;34m)\u001b[0m\u001b[0;34m\u001b[0m\u001b[0;34m\u001b[0m\u001b[0m\n\u001b[0m\u001b[1;32m    349\u001b[0m             \u001b[0;32mreturn\u001b[0m \u001b[0;32mTrue\u001b[0m\u001b[0;34m\u001b[0m\u001b[0;34m\u001b[0m\u001b[0m\n\u001b[1;32m    350\u001b[0m         \u001b[0;32mreturn\u001b[0m \u001b[0;32mFalse\u001b[0m\u001b[0;34m\u001b[0m\u001b[0;34m\u001b[0m\u001b[0m\n",
      "\u001b[0;32m~/opt/anaconda3/lib/python3.9/site-packages/snowflake/connector/errors.py\u001b[0m in \u001b[0;36mdefault_errorhandler\u001b[0;34m(connection, cursor, error_class, error_value)\u001b[0m\n\u001b[1;32m    219\u001b[0m         \u001b[0merrno\u001b[0m \u001b[0;34m=\u001b[0m \u001b[0merror_value\u001b[0m\u001b[0;34m.\u001b[0m\u001b[0mget\u001b[0m\u001b[0;34m(\u001b[0m\u001b[0;34m\"errno\"\u001b[0m\u001b[0;34m)\u001b[0m\u001b[0;34m\u001b[0m\u001b[0;34m\u001b[0m\u001b[0m\n\u001b[1;32m    220\u001b[0m         \u001b[0mdone_format_msg\u001b[0m \u001b[0;34m=\u001b[0m \u001b[0merror_value\u001b[0m\u001b[0;34m.\u001b[0m\u001b[0mget\u001b[0m\u001b[0;34m(\u001b[0m\u001b[0;34m\"done_format_msg\"\u001b[0m\u001b[0;34m)\u001b[0m\u001b[0;34m\u001b[0m\u001b[0;34m\u001b[0m\u001b[0m\n\u001b[0;32m--> 221\u001b[0;31m         raise error_class(\n\u001b[0m\u001b[1;32m    222\u001b[0m             \u001b[0mmsg\u001b[0m\u001b[0;34m=\u001b[0m\u001b[0merror_value\u001b[0m\u001b[0;34m.\u001b[0m\u001b[0mget\u001b[0m\u001b[0;34m(\u001b[0m\u001b[0;34m\"msg\"\u001b[0m\u001b[0;34m)\u001b[0m\u001b[0;34m,\u001b[0m\u001b[0;34m\u001b[0m\u001b[0;34m\u001b[0m\u001b[0m\n\u001b[1;32m    223\u001b[0m             \u001b[0merrno\u001b[0m\u001b[0;34m=\u001b[0m\u001b[0;32mNone\u001b[0m \u001b[0;32mif\u001b[0m \u001b[0merrno\u001b[0m \u001b[0;32mis\u001b[0m \u001b[0;32mNone\u001b[0m \u001b[0;32melse\u001b[0m \u001b[0mint\u001b[0m\u001b[0;34m(\u001b[0m\u001b[0merrno\u001b[0m\u001b[0;34m)\u001b[0m\u001b[0;34m,\u001b[0m\u001b[0;34m\u001b[0m\u001b[0;34m\u001b[0m\u001b[0m\n",
      "\u001b[0;31mProgrammingError\u001b[0m: 251005: User is empty"
     ]
    }
   ],
   "source": [
    "load_dotenv()\n",
    "\n",
    "# Retrieve Snowflake credentials from environment variables\n",
    "user = os.getenv('SNOWFLAKE_USER')\n",
    "password = os.getenv('SNOWFLAKE_PASSWORD')\n",
    "account = os.getenv('SNOWFLAKE_ACCOUNT')\n",
    "warehouse = 'SF_WH_CASE1'\n",
    "database = 'SF_DB_CASE1'\n",
    "schema = 'SF_CASE1'\n",
    "role = 'SYSADMIN'  # Replace with your full access role\n",
    "\n",
    "# Connect to Snowflake\n",
    "conn = snowflake.connector.connect(\n",
    "    user=user,\n",
    "    password=password,\n",
    "    account=account,\n",
    "    warehouse=warehouse,\n",
    "    database=database,\n",
    "    schema=schema,\n",
    "    role=role,\n",
    ")\n",
    "\n",
    "# Create a cursor object\n",
    "cur = conn.cursor()\n",
    "\n",
    "try:\n",
    "#     cur.execute(f\"CREATE ROLE IF NOT EXISTS {role}\")\n",
    "#     cur.execute(f\"GRANT ALL PRIVILEGES ON DATABASE {database} TO ROLE {role}\")\n",
    "#     cur.execute(f\"GRANT ALL PRIVILEGES ON WAREHOUSE {warehouse} TO ROLE {role}\")\n",
    "#     cur.execute(f\"GRANT ROLE {role} TO USER {user}\")\n",
    "\n",
    "    # Execute SQL commands for setup\n",
    "    cur.execute(\"CREATE DATABASE IF NOT EXISTS SF_DB_CASE1\")\n",
    "    cur.execute(\"USE DATABASE SF_DB_CASE1\")\n",
    "    cur.execute(\"\"\"\n",
    "        CREATE WAREHOUSE IF NOT EXISTS SF_WH_CASE1\n",
    "        WITH WAREHOUSE_SIZE = 'MEDIUM'\n",
    "        WAREHOUSE_TYPE = 'STANDARD'\n",
    "        AUTO_SUSPEND = 300\n",
    "        AUTO_RESUME = TRUE;\n",
    "    \"\"\")\n",
    "    cur.execute(\"CREATE SCHEMA IF NOT EXISTS SF_CASE1\")\n",
    "    cur.execute(\"USE SCHEMA SF_CASE1\")\n",
    "    cur.execute(\"\"\"\n",
    "        CREATE OR REPLACE TABLE SUMMARY_FINAL (\n",
    "            NAME_OF_THE_TOPIC VARCHAR(500),\n",
    "            YEAR VARCHAR(255),\n",
    "            LEVEL VARCHAR(255),\n",
    "            INTRODUCTION_SUMMARY VARCHAR(10000),\n",
    "            LEARNING_OUTCOMES VARCHAR(10000),\n",
    "            LINK_TO_THE_SUMMARY_PAGE VARCHAR(1000),\n",
    "            LINK_TO_THE_PDF_FILE VARCHAR(1000)\n",
    "        );\n",
    "    \"\"\")\n",
    "\n",
    "    print(\"Snowflake setup completed successfully.\")\n",
    "\n",
    "    # Load CSV data into DataFrame\n",
    "    csv_file_path = '../Webscrape/extracted.csv'  # Update with the path to your CSV file\n",
    "    df = pd.read_csv(csv_file_path)\n",
    "\n",
    "    # Prepare DataFrame for Snowflake\n",
    "    df.columns = [col.upper() for col in df.columns]\n",
    "\n",
    "    # Configure SQLAlchemy engine for Snowflake\n",
    "    engine = create_engine(URL(\n",
    "        account=account,\n",
    "        user=user,\n",
    "        password=password,\n",
    "        database=database,\n",
    "        schema=schema,\n",
    "        warehouse=warehouse,\n",
    "        role=role,\n",
    "    ))\n",
    "\n",
    "    # Transfer data from CSV to Snowflake\n",
    "    table_name = 'SUMMARY_FINAL'\n",
    "    df.to_sql(table_name, con=engine, index=False, if_exists='append', method='multi')\n",
    "\n",
    "    print(\"Data transfer to Snowflake completed successfully.\")\n",
    "finally:\n",
    "    # Clean up\n",
    "    cur.close()\n",
    "    conn.close()"
   ]
  },
  {
   "cell_type": "code",
   "execution_count": null,
   "id": "6b0f87cc",
   "metadata": {
    "papermill": {
     "duration": null,
     "end_time": null,
     "exception": null,
     "start_time": null,
     "status": "pending"
    },
    "tags": []
   },
   "outputs": [],
   "source": []
  }
 ],
 "metadata": {
  "kernelspec": {
   "display_name": "Python 3 (ipykernel)",
   "language": "python",
   "name": "python3"
  },
  "language_info": {
   "codemirror_mode": {
    "name": "ipython",
    "version": 3
   },
   "file_extension": ".py",
   "mimetype": "text/x-python",
   "name": "python",
   "nbconvert_exporter": "python",
   "pygments_lexer": "ipython3",
   "version": "3.9.13"
  },
  "papermill": {
   "default_parameters": {},
   "duration": 8.748692,
   "end_time": "2024-02-15T02:13:07.274674",
   "environment_variables": {},
   "exception": true,
   "input_path": "Snowflake_Transfer1/snowflake_sqlalchemy.ipynb",
   "output_path": "Snowflake_Transfer1/snowflake_sqlalchemy_output.ipynb",
   "parameters": {},
   "start_time": "2024-02-15T02:12:58.525982",
   "version": "2.5.0"
  }
 },
 "nbformat": 4,
 "nbformat_minor": 5
}