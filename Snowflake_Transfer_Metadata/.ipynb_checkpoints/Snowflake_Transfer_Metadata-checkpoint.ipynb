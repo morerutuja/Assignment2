{
 "cells": [
  {
   "cell_type": "code",
   "execution_count": 18,
   "id": "935ce53f",
   "metadata": {},
   "outputs": [
    {
     "name": "stdout",
     "output_type": "stream",
     "text": [
      "Requirement already satisfied: snowflake-connector-python in /Users/anirudhajoshi/opt/anaconda3/lib/python3.9/site-packages (from -r requirements.txt (line 1)) (3.7.0)\n",
      "Requirement already satisfied: snowflake-sqlalchemy in /Users/anirudhajoshi/opt/anaconda3/lib/python3.9/site-packages (from -r requirements.txt (line 2)) (1.5.1)\n",
      "Requirement already satisfied: python-dotenv in /Users/anirudhajoshi/opt/anaconda3/lib/python3.9/site-packages (from -r requirements.txt (line 3)) (1.0.1)\n",
      "Requirement already satisfied: boto3 in /Users/anirudhajoshi/opt/anaconda3/lib/python3.9/site-packages (from -r requirements.txt (line 4)) (1.24.28)\n",
      "Requirement already satisfied: sqlalchemy in /Users/anirudhajoshi/opt/anaconda3/lib/python3.9/site-packages (from -r requirements.txt (line 5)) (1.4.39)\n",
      "Requirement already satisfied: packaging in /Users/anirudhajoshi/opt/anaconda3/lib/python3.9/site-packages (from snowflake-connector-python->-r requirements.txt (line 1)) (21.3)\n",
      "Requirement already satisfied: idna<4,>=2.5 in /Users/anirudhajoshi/opt/anaconda3/lib/python3.9/site-packages (from snowflake-connector-python->-r requirements.txt (line 1)) (3.3)\n",
      "Requirement already satisfied: typing-extensions<5,>=4.3 in /Users/anirudhajoshi/opt/anaconda3/lib/python3.9/site-packages (from snowflake-connector-python->-r requirements.txt (line 1)) (4.9.0)\n",
      "Requirement already satisfied: sortedcontainers>=2.4.0 in /Users/anirudhajoshi/opt/anaconda3/lib/python3.9/site-packages (from snowflake-connector-python->-r requirements.txt (line 1)) (2.4.0)\n",
      "Requirement already satisfied: asn1crypto<2.0.0,>0.24.0 in /Users/anirudhajoshi/opt/anaconda3/lib/python3.9/site-packages (from snowflake-connector-python->-r requirements.txt (line 1)) (1.5.1)\n",
      "Requirement already satisfied: pyOpenSSL<24.0.0,>=16.2.0 in /Users/anirudhajoshi/opt/anaconda3/lib/python3.9/site-packages (from snowflake-connector-python->-r requirements.txt (line 1)) (22.0.0)\n",
      "Requirement already satisfied: pyjwt<3.0.0 in /Users/anirudhajoshi/opt/anaconda3/lib/python3.9/site-packages (from snowflake-connector-python->-r requirements.txt (line 1)) (2.4.0)\n",
      "Requirement already satisfied: charset-normalizer<4,>=2 in /Users/anirudhajoshi/opt/anaconda3/lib/python3.9/site-packages (from snowflake-connector-python->-r requirements.txt (line 1)) (2.0.4)\n",
      "Requirement already satisfied: platformdirs<4.0.0,>=2.6.0 in /Users/anirudhajoshi/opt/anaconda3/lib/python3.9/site-packages (from snowflake-connector-python->-r requirements.txt (line 1)) (3.11.0)\n",
      "Requirement already satisfied: pytz in /Users/anirudhajoshi/opt/anaconda3/lib/python3.9/site-packages (from snowflake-connector-python->-r requirements.txt (line 1)) (2022.7.1)\n",
      "Requirement already satisfied: tomlkit in /Users/anirudhajoshi/opt/anaconda3/lib/python3.9/site-packages (from snowflake-connector-python->-r requirements.txt (line 1)) (0.11.1)\n",
      "Requirement already satisfied: requests<3.0.0 in /Users/anirudhajoshi/opt/anaconda3/lib/python3.9/site-packages (from snowflake-connector-python->-r requirements.txt (line 1)) (2.28.1)\n",
      "Requirement already satisfied: cffi<2.0.0,>=1.9 in /Users/anirudhajoshi/opt/anaconda3/lib/python3.9/site-packages (from snowflake-connector-python->-r requirements.txt (line 1)) (1.15.1)\n",
      "Requirement already satisfied: certifi>=2017.4.17 in /Users/anirudhajoshi/opt/anaconda3/lib/python3.9/site-packages (from snowflake-connector-python->-r requirements.txt (line 1)) (2022.6.15)\n",
      "Requirement already satisfied: filelock<4,>=3.5 in /Users/anirudhajoshi/opt/anaconda3/lib/python3.9/site-packages (from snowflake-connector-python->-r requirements.txt (line 1)) (3.6.0)\n",
      "Requirement already satisfied: urllib3<2.0.0,>=1.21.1 in /Users/anirudhajoshi/opt/anaconda3/lib/python3.9/site-packages (from snowflake-connector-python->-r requirements.txt (line 1)) (1.26.11)\n",
      "Requirement already satisfied: cryptography<42.0.0,>=3.1.0 in /Users/anirudhajoshi/opt/anaconda3/lib/python3.9/site-packages (from snowflake-connector-python->-r requirements.txt (line 1)) (37.0.1)\n",
      "Requirement already satisfied: botocore<1.28.0,>=1.27.28 in /Users/anirudhajoshi/opt/anaconda3/lib/python3.9/site-packages (from boto3->-r requirements.txt (line 4)) (1.27.28)\n",
      "Requirement already satisfied: jmespath<2.0.0,>=0.7.1 in /Users/anirudhajoshi/opt/anaconda3/lib/python3.9/site-packages (from boto3->-r requirements.txt (line 4)) (0.10.0)\n",
      "Requirement already satisfied: s3transfer<0.7.0,>=0.6.0 in /Users/anirudhajoshi/opt/anaconda3/lib/python3.9/site-packages (from boto3->-r requirements.txt (line 4)) (0.6.0)\n",
      "Requirement already satisfied: greenlet!=0.4.17 in /Users/anirudhajoshi/opt/anaconda3/lib/python3.9/site-packages (from sqlalchemy->-r requirements.txt (line 5)) (1.1.1)\n",
      "Requirement already satisfied: python-dateutil<3.0.0,>=2.1 in /Users/anirudhajoshi/opt/anaconda3/lib/python3.9/site-packages (from botocore<1.28.0,>=1.27.28->boto3->-r requirements.txt (line 4)) (2.8.2)\n",
      "Requirement already satisfied: pycparser in /Users/anirudhajoshi/opt/anaconda3/lib/python3.9/site-packages (from cffi<2.0.0,>=1.9->snowflake-connector-python->-r requirements.txt (line 1)) (2.21)\n",
      "Requirement already satisfied: pyparsing!=3.0.5,>=2.0.2 in /Users/anirudhajoshi/opt/anaconda3/lib/python3.9/site-packages (from packaging->snowflake-connector-python->-r requirements.txt (line 1)) (3.0.9)\n",
      "Requirement already satisfied: six>=1.5 in /Users/anirudhajoshi/opt/anaconda3/lib/python3.9/site-packages (from python-dateutil<3.0.0,>=2.1->botocore<1.28.0,>=1.27.28->boto3->-r requirements.txt (line 4)) (1.16.0)\n",
      "Note: you may need to restart the kernel to use updated packages.\n"
     ]
    }
   ],
   "source": [
    "pip install -r requirements.txt"
   ]
  },
  {
   "cell_type": "markdown",
   "id": "6acacc30",
   "metadata": {},
   "source": [
    "##### Import necessary libraries and load environment variables"
   ]
  },
  {
   "cell_type": "code",
   "execution_count": 27,
   "id": "e113adef",
   "metadata": {},
   "outputs": [
    {
     "data": {
      "text/plain": [
       "True"
      ]
     },
     "execution_count": 27,
     "metadata": {},
     "output_type": "execute_result"
    }
   ],
   "source": [
    "\n",
    "import os\n",
    "import snowflake.connector\n",
    "import boto3\n",
    "from sqlalchemy import create_engine, MetaData, Table, Column, VARCHAR, TIMESTAMP, INTEGER\n",
    "from dotenv import load_dotenv\n",
    "from snowflake.sqlalchemy import URL\n",
    "from sqlalchemy.types import String, DateTime, Integer\n",
    "\n",
    "load_dotenv()\n"
   ]
  },
  {
   "cell_type": "markdown",
   "id": "b344b917",
   "metadata": {},
   "source": [
    "##### Retrieve Snowflake credentials from environment variables"
   ]
  },
  {
   "cell_type": "code",
   "execution_count": 28,
   "id": "82130c81",
   "metadata": {},
   "outputs": [],
   "source": [
    "\n",
    "snowflake_user = os.getenv('SNOWFLAKE_USER')\n",
    "snowflake_password = os.getenv('SNOWFLAKE_PASSWORD')\n",
    "snowflake_account = os.getenv('SNOWFLAKE_ACCOUNT')\n",
    "warehouse = 'SF_WH_CASE1'\n",
    "database = 'SF_DB_CASE1'\n",
    "schema = 'SF_CASE1'\n",
    "role = 'SYSADMIN'  # Replace with your full access role\n"
   ]
  },
  {
   "cell_type": "markdown",
   "id": "ce5c4dea",
   "metadata": {},
   "source": [
    "##### Retrieve S3 credentials from environment variables"
   ]
  },
  {
   "cell_type": "code",
   "execution_count": 21,
   "id": "1c139935",
   "metadata": {},
   "outputs": [],
   "source": [
    "\n",
    "aws_access_key_id = os.getenv('AWS_ACCESS_KEY_ID')\n",
    "aws_secret_access_key = os.getenv('AWS_SECRET_ACCESS_KEY')\n"
   ]
  },
  {
   "cell_type": "markdown",
   "id": "a530f74c",
   "metadata": {},
   "source": [
    "##### Connect to Snowflake and create a cursor object"
   ]
  },
  {
   "cell_type": "code",
   "execution_count": 22,
   "id": "ab29565f",
   "metadata": {},
   "outputs": [],
   "source": [
    "\n",
    "conn = snowflake.connector.connect(\n",
    "    user=snowflake_user,\n",
    "    password=snowflake_password,\n",
    "    account=snowflake_account,\n",
    "    warehouse=warehouse,\n",
    "    database=database,\n",
    "    schema=schema,\n",
    "    role=role,\n",
    ")\n",
    "cur = conn.cursor()\n"
   ]
  },
  {
   "cell_type": "markdown",
   "id": "f73de9a2",
   "metadata": {},
   "source": [
    "##### Execute SQL commands for setup"
   ]
  },
  {
   "cell_type": "code",
   "execution_count": 23,
   "id": "3865520f",
   "metadata": {},
   "outputs": [
    {
     "name": "stdout",
     "output_type": "stream",
     "text": [
      "Snowflake setup completed successfully.\n"
     ]
    }
   ],
   "source": [
    "\n",
    "try:\n",
    "    cur.execute(\"CREATE DATABASE IF NOT EXISTS SF_DB_CASE1\")\n",
    "    cur.execute(\"USE DATABASE SF_DB_CASE1\")\n",
    "    cur.execute(\"\"\"\n",
    "        CREATE WAREHOUSE IF NOT EXISTS SF_WH_CASE1\n",
    "        WITH WAREHOUSE_SIZE = 'MEDIUM'\n",
    "        WAREHOUSE_TYPE = 'STANDARD'\n",
    "        AUTO_SUSPEND = 300\n",
    "        AUTO_RESUME = TRUE;\n",
    "    \"\"\")\n",
    "    cur.execute(\"CREATE SCHEMA IF NOT EXISTS SF_CASE1\")\n",
    "    cur.execute(\"USE SCHEMA SF_CASE1\")\n",
    "    cur.execute(\"\"\"\n",
    "        CREATE OR REPLACE TABLE METADATA (\n",
    "            OBJECT_NAME VARCHAR(255),\n",
    "            LAST_MODIFIED TIMESTAMP,\n",
    "            SIZE_BYTES NUMBER,\n",
    "            LINK_TO_TXT_FILE VARCHAR(1000)\n",
    "        );\n",
    "    \"\"\")\n",
    "    print(\"Snowflake setup completed successfully.\")\n",
    "except Exception as e:\n",
    "    print(e)\n",
    "finally:\n",
    "    # Always close the cursor\n",
    "    cur.close()\n"
   ]
  },
  {
   "cell_type": "markdown",
   "id": "f201a0a7",
   "metadata": {},
   "source": [
    "##### Initialize S3 client"
   ]
  },
  {
   "cell_type": "code",
   "execution_count": 24,
   "id": "a695ac94",
   "metadata": {},
   "outputs": [],
   "source": [
    "\n",
    "s3 = boto3.client('s3', aws_access_key_id=aws_access_key_id, aws_secret_access_key=aws_secret_access_key)\n"
   ]
  },
  {
   "cell_type": "markdown",
   "id": "fff5aa55",
   "metadata": {},
   "source": [
    "##### Specify S3 bucket and prefix and list objects"
   ]
  },
  {
   "cell_type": "code",
   "execution_count": 25,
   "id": "e81ff02c",
   "metadata": {},
   "outputs": [],
   "source": [
    "\n",
    "bucket_name = 'bigdata-pypdf'\n",
    "prefix = 'PyPDF/'\n",
    "response = s3.list_objects_v2(Bucket=bucket_name, Prefix=prefix)\n"
   ]
  },
  {
   "cell_type": "code",
   "execution_count": 29,
   "id": "be15a348",
   "metadata": {},
   "outputs": [],
   "source": [
    "engine = create_engine(URL(\n",
    "    account = snowflake_account,\n",
    "    user = snowflake_user,\n",
    "    password = snowflake_password,\n",
    "    database = database,\n",
    "    schema = schema,\n",
    "    warehouse = warehouse,\n",
    "    role = role,\n",
    "))\n",
    "\n",
    "metadata = MetaData()\n",
    "\n",
    "\n",
    "metadata_table = Table(\n",
    "    'METADATA', metadata,\n",
    "    Column('OBJECT_NAME', String(255)),\n",
    "    Column('LAST_MODIFIED', DateTime),\n",
    "    Column('SIZE_BYTES', Integer),\n",
    "    Column('LINK_TO_TXT_FILE', String(1000))\n",
    ")\n",
    "\n",
    "metadata.create_all(engine, checkfirst=True)"
   ]
  },
  {
   "cell_type": "markdown",
   "id": "48fcd0bb",
   "metadata": {},
   "source": [
    "##### Metadata transfer to Snowflake"
   ]
  },
  {
   "cell_type": "code",
   "execution_count": 30,
   "id": "d873d61d",
   "metadata": {},
   "outputs": [
    {
     "name": "stdout",
     "output_type": "stream",
     "text": [
      "Metadata transfer to Snowflake completed successfully.\n"
     ]
    }
   ],
   "source": [
    "\n",
    "try:\n",
    "    with engine.connect() as connection:\n",
    "        for obj in response.get('Contents', []):\n",
    "            object_name = obj['Key']\n",
    "            last_modified = obj['LastModified']\n",
    "            size_bytes = obj['Size']\n",
    "            link_to_txt_file = f\"https://{bucket_name}.s3.amazonaws.com/{object_name}\"\n",
    "            connection.execute(metadata_table.insert().values(\n",
    "                OBJECT_NAME=object_name,\n",
    "                LAST_MODIFIED=last_modified,\n",
    "                SIZE_BYTES=size_bytes,\n",
    "                LINK_TO_TXT_FILE=link_to_txt_file\n",
    "            ))\n",
    "    print(\"Metadata transfer to Snowflake completed successfully.\")\n",
    "except Exception as e:\n",
    "    print(e)\n"
   ]
  },
  {
   "cell_type": "code",
   "execution_count": 31,
   "id": "741ccb78",
   "metadata": {},
   "outputs": [],
   "source": [
    "\n",
    "conn.close()\n"
   ]
  },
  {
   "cell_type": "code",
   "execution_count": null,
   "id": "a41b5047",
   "metadata": {},
   "outputs": [],
   "source": []
  }
 ],
 "metadata": {
  "kernelspec": {
   "display_name": "Python 3 (ipykernel)",
   "language": "python",
   "name": "python3"
  },
  "language_info": {
   "codemirror_mode": {
    "name": "ipython",
    "version": 3
   },
   "file_extension": ".py",
   "mimetype": "text/x-python",
   "name": "python",
   "nbconvert_exporter": "python",
   "pygments_lexer": "ipython3",
   "version": "3.9.13"
  }
 },
 "nbformat": 4,
 "nbformat_minor": 5
}
