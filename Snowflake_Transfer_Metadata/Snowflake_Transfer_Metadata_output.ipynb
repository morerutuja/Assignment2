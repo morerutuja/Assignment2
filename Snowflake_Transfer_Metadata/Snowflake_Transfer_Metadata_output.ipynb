{
 "cells": [
  {
   "cell_type": "markdown",
   "id": "3d79138a",
   "metadata": {
    "tags": [
     "papermill-error-cell-tag"
    ]
   },
   "source": [
    "<span style=\"color:red; font-family:Helvetica Neue, Helvetica, Arial, sans-serif; font-size:2em;\">An Exception was encountered at '<a href=\"#papermill-error-cell\">In [5]</a>'.</span>"
   ]
  },
  {
   "cell_type": "code",
   "execution_count": 1,
   "id": "935ce53f",
   "metadata": {
    "execution": {
     "iopub.execute_input": "2024-02-15T02:13:10.631977Z",
     "iopub.status.busy": "2024-02-15T02:13:10.631225Z",
     "iopub.status.idle": "2024-02-15T02:13:15.098953Z",
     "shell.execute_reply": "2024-02-15T02:13:15.098116Z"
    },
    "papermill": {
     "duration": 4.489757,
     "end_time": "2024-02-15T02:13:15.101613",
     "exception": false,
     "start_time": "2024-02-15T02:13:10.611856",
     "status": "completed"
    },
    "tags": []
   },
   "outputs": [
    {
     "name": "stdout",
     "output_type": "stream",
     "text": [
      "Requirement already satisfied: papermill in /Users/anirudhajoshi/opt/anaconda3/lib/python3.9/site-packages (from -r requirements.txt (line 1)) (2.5.0)\r\n"
     ]
    },
    {
     "name": "stdout",
     "output_type": "stream",
     "text": [
      "Requirement already satisfied: click in /Users/anirudhajoshi/opt/anaconda3/lib/python3.9/site-packages (from papermill->-r requirements.txt (line 1)) (8.0.4)\r\n",
      "Requirement already satisfied: nbformat>=5.1.2 in /Users/anirudhajoshi/opt/anaconda3/lib/python3.9/site-packages (from papermill->-r requirements.txt (line 1)) (5.5.0)\r\n",
      "Requirement already satisfied: tenacity>=5.0.2 in /Users/anirudhajoshi/opt/anaconda3/lib/python3.9/site-packages (from papermill->-r requirements.txt (line 1)) (8.0.1)\r\n",
      "Requirement already satisfied: pyyaml in /Users/anirudhajoshi/opt/anaconda3/lib/python3.9/site-packages (from papermill->-r requirements.txt (line 1)) (6.0)\r\n",
      "Requirement already satisfied: entrypoints in /Users/anirudhajoshi/opt/anaconda3/lib/python3.9/site-packages (from papermill->-r requirements.txt (line 1)) (0.4)\r\n",
      "Requirement already satisfied: tqdm>=4.32.2 in /Users/anirudhajoshi/opt/anaconda3/lib/python3.9/site-packages (from papermill->-r requirements.txt (line 1)) (4.64.1)\r\n",
      "Requirement already satisfied: requests in /Users/anirudhajoshi/opt/anaconda3/lib/python3.9/site-packages (from papermill->-r requirements.txt (line 1)) (2.28.1)\r\n",
      "Requirement already satisfied: nbclient>=0.2.0 in /Users/anirudhajoshi/opt/anaconda3/lib/python3.9/site-packages (from papermill->-r requirements.txt (line 1)) (0.5.13)\r\n"
     ]
    },
    {
     "name": "stdout",
     "output_type": "stream",
     "text": [
      "Requirement already satisfied: traitlets>=5.0.0 in /Users/anirudhajoshi/opt/anaconda3/lib/python3.9/site-packages (from nbclient>=0.2.0->papermill->-r requirements.txt (line 1)) (5.1.1)\r\n",
      "Requirement already satisfied: jupyter-client>=6.1.5 in /Users/anirudhajoshi/opt/anaconda3/lib/python3.9/site-packages (from nbclient>=0.2.0->papermill->-r requirements.txt (line 1)) (7.3.4)\r\n",
      "Requirement already satisfied: nest-asyncio in /Users/anirudhajoshi/opt/anaconda3/lib/python3.9/site-packages (from nbclient>=0.2.0->papermill->-r requirements.txt (line 1)) (1.5.5)\r\n",
      "Requirement already satisfied: jsonschema>=2.6 in /Users/anirudhajoshi/opt/anaconda3/lib/python3.9/site-packages (from nbformat>=5.1.2->papermill->-r requirements.txt (line 1)) (4.16.0)\r\n",
      "Requirement already satisfied: jupyter_core in /Users/anirudhajoshi/opt/anaconda3/lib/python3.9/site-packages (from nbformat>=5.1.2->papermill->-r requirements.txt (line 1)) (4.11.1)\r\n",
      "Requirement already satisfied: fastjsonschema in /Users/anirudhajoshi/opt/anaconda3/lib/python3.9/site-packages (from nbformat>=5.1.2->papermill->-r requirements.txt (line 1)) (2.16.2)\r\n",
      "Requirement already satisfied: charset-normalizer<3,>=2 in /Users/anirudhajoshi/opt/anaconda3/lib/python3.9/site-packages (from requests->papermill->-r requirements.txt (line 1)) (2.0.4)\r\n",
      "Requirement already satisfied: idna<4,>=2.5 in /Users/anirudhajoshi/opt/anaconda3/lib/python3.9/site-packages (from requests->papermill->-r requirements.txt (line 1)) (3.3)\r\n",
      "Requirement already satisfied: certifi>=2017.4.17 in /Users/anirudhajoshi/opt/anaconda3/lib/python3.9/site-packages (from requests->papermill->-r requirements.txt (line 1)) (2022.6.15)\r\n",
      "Requirement already satisfied: urllib3<1.27,>=1.21.1 in /Users/anirudhajoshi/opt/anaconda3/lib/python3.9/site-packages (from requests->papermill->-r requirements.txt (line 1)) (1.26.11)\r\n"
     ]
    },
    {
     "name": "stdout",
     "output_type": "stream",
     "text": [
      "Requirement already satisfied: attrs>=17.4.0 in /Users/anirudhajoshi/opt/anaconda3/lib/python3.9/site-packages (from jsonschema>=2.6->nbformat>=5.1.2->papermill->-r requirements.txt (line 1)) (21.4.0)\r\n",
      "Requirement already satisfied: pyrsistent!=0.17.0,!=0.17.1,!=0.17.2,>=0.14.0 in /Users/anirudhajoshi/opt/anaconda3/lib/python3.9/site-packages (from jsonschema>=2.6->nbformat>=5.1.2->papermill->-r requirements.txt (line 1)) (0.18.0)\r\n",
      "Requirement already satisfied: pyzmq>=23.0 in /Users/anirudhajoshi/opt/anaconda3/lib/python3.9/site-packages (from jupyter-client>=6.1.5->nbclient>=0.2.0->papermill->-r requirements.txt (line 1)) (23.2.0)\r\n",
      "Requirement already satisfied: tornado>=6.0 in /Users/anirudhajoshi/opt/anaconda3/lib/python3.9/site-packages (from jupyter-client>=6.1.5->nbclient>=0.2.0->papermill->-r requirements.txt (line 1)) (6.1)\r\n",
      "Requirement already satisfied: python-dateutil>=2.8.2 in /Users/anirudhajoshi/opt/anaconda3/lib/python3.9/site-packages (from jupyter-client>=6.1.5->nbclient>=0.2.0->papermill->-r requirements.txt (line 1)) (2.8.2)\r\n"
     ]
    },
    {
     "name": "stdout",
     "output_type": "stream",
     "text": [
      "Requirement already satisfied: six>=1.5 in /Users/anirudhajoshi/opt/anaconda3/lib/python3.9/site-packages (from python-dateutil>=2.8.2->jupyter-client>=6.1.5->nbclient>=0.2.0->papermill->-r requirements.txt (line 1)) (1.16.0)\r\n"
     ]
    },
    {
     "name": "stdout",
     "output_type": "stream",
     "text": [
      "Note: you may need to restart the kernel to use updated packages.\n"
     ]
    }
   ],
   "source": [
    "pip install -r requirements.txt"
   ]
  },
  {
   "cell_type": "markdown",
   "id": "6acacc30",
   "metadata": {
    "papermill": {
     "duration": 0.003434,
     "end_time": "2024-02-15T02:13:15.111087",
     "exception": false,
     "start_time": "2024-02-15T02:13:15.107653",
     "status": "completed"
    },
    "tags": []
   },
   "source": [
    "##### Import necessary libraries and load environment variables"
   ]
  },
  {
   "cell_type": "code",
   "execution_count": 2,
   "id": "e113adef",
   "metadata": {
    "execution": {
     "iopub.execute_input": "2024-02-15T02:13:15.119127Z",
     "iopub.status.busy": "2024-02-15T02:13:15.118882Z",
     "iopub.status.idle": "2024-02-15T02:13:16.518972Z",
     "shell.execute_reply": "2024-02-15T02:13:16.518332Z"
    },
    "papermill": {
     "duration": 1.40663,
     "end_time": "2024-02-15T02:13:16.520906",
     "exception": false,
     "start_time": "2024-02-15T02:13:15.114276",
     "status": "completed"
    },
    "tags": []
   },
   "outputs": [
    {
     "data": {
      "text/plain": [
       "False"
      ]
     },
     "execution_count": 2,
     "metadata": {},
     "output_type": "execute_result"
    }
   ],
   "source": [
    "\n",
    "import os\n",
    "import snowflake.connector\n",
    "import boto3\n",
    "from sqlalchemy import create_engine, MetaData, Table, Column, VARCHAR, TIMESTAMP, INTEGER\n",
    "from dotenv import load_dotenv\n",
    "from snowflake.sqlalchemy import URL\n",
    "from sqlalchemy.types import String, DateTime, Integer\n",
    "\n",
    "load_dotenv()\n"
   ]
  },
  {
   "cell_type": "markdown",
   "id": "b344b917",
   "metadata": {
    "papermill": {
     "duration": 0.003351,
     "end_time": "2024-02-15T02:13:16.528342",
     "exception": false,
     "start_time": "2024-02-15T02:13:16.524991",
     "status": "completed"
    },
    "tags": []
   },
   "source": [
    "##### Retrieve Snowflake credentials from environment variables"
   ]
  },
  {
   "cell_type": "code",
   "execution_count": 3,
   "id": "82130c81",
   "metadata": {
    "execution": {
     "iopub.execute_input": "2024-02-15T02:13:16.536066Z",
     "iopub.status.busy": "2024-02-15T02:13:16.535851Z",
     "iopub.status.idle": "2024-02-15T02:13:16.539353Z",
     "shell.execute_reply": "2024-02-15T02:13:16.538902Z"
    },
    "papermill": {
     "duration": 0.009337,
     "end_time": "2024-02-15T02:13:16.540984",
     "exception": false,
     "start_time": "2024-02-15T02:13:16.531647",
     "status": "completed"
    },
    "tags": []
   },
   "outputs": [],
   "source": [
    "\n",
    "snowflake_user = os.getenv('SNOWFLAKE_USER')\n",
    "snowflake_password = os.getenv('SNOWFLAKE_PASSWORD')\n",
    "snowflake_account = os.getenv('SNOWFLAKE_ACCOUNT')\n",
    "warehouse = 'SF_WH_CASE1'\n",
    "database = 'SF_DB_CASE1'\n",
    "schema = 'SF_CASE1'\n",
    "role = 'SYSADMIN'  # Replace with your full access role\n"
   ]
  },
  {
   "cell_type": "markdown",
   "id": "ce5c4dea",
   "metadata": {
    "papermill": {
     "duration": 0.003707,
     "end_time": "2024-02-15T02:13:16.548290",
     "exception": false,
     "start_time": "2024-02-15T02:13:16.544583",
     "status": "completed"
    },
    "tags": []
   },
   "source": [
    "##### Retrieve S3 credentials from environment variables"
   ]
  },
  {
   "cell_type": "code",
   "execution_count": 4,
   "id": "1c139935",
   "metadata": {
    "execution": {
     "iopub.execute_input": "2024-02-15T02:13:16.556273Z",
     "iopub.status.busy": "2024-02-15T02:13:16.556057Z",
     "iopub.status.idle": "2024-02-15T02:13:16.558967Z",
     "shell.execute_reply": "2024-02-15T02:13:16.558515Z"
    },
    "papermill": {
     "duration": 0.009082,
     "end_time": "2024-02-15T02:13:16.560665",
     "exception": false,
     "start_time": "2024-02-15T02:13:16.551583",
     "status": "completed"
    },
    "tags": []
   },
   "outputs": [],
   "source": [
    "\n",
    "aws_access_key_id = os.getenv('AWS_ACCESS_KEY_ID')\n",
    "aws_secret_access_key = os.getenv('AWS_SECRET_ACCESS_KEY')\n"
   ]
  },
  {
   "cell_type": "markdown",
   "id": "a530f74c",
   "metadata": {
    "papermill": {
     "duration": 0.003571,
     "end_time": "2024-02-15T02:13:16.567899",
     "exception": false,
     "start_time": "2024-02-15T02:13:16.564328",
     "status": "completed"
    },
    "tags": []
   },
   "source": [
    "##### Connect to Snowflake and create a cursor object"
   ]
  },
  {
   "cell_type": "markdown",
   "id": "be3c7d1a",
   "metadata": {
    "tags": [
     "papermill-error-cell-tag"
    ]
   },
   "source": [
    "<span id=\"papermill-error-cell\" style=\"color:red; font-family:Helvetica Neue, Helvetica, Arial, sans-serif; font-size:2em;\">Execution using papermill encountered an exception here and stopped:</span>"
   ]
  },
  {
   "cell_type": "code",
   "execution_count": 5,
   "id": "ab29565f",
   "metadata": {
    "execution": {
     "iopub.execute_input": "2024-02-15T02:13:16.575664Z",
     "iopub.status.busy": "2024-02-15T02:13:16.575470Z",
     "iopub.status.idle": "2024-02-15T02:13:16.751825Z",
     "shell.execute_reply": "2024-02-15T02:13:16.750943Z"
    },
    "papermill": {
     "duration": 0.181988,
     "end_time": "2024-02-15T02:13:16.753311",
     "exception": true,
     "start_time": "2024-02-15T02:13:16.571323",
     "status": "failed"
    },
    "tags": []
   },
   "outputs": [
    {
     "ename": "ProgrammingError",
     "evalue": "251005: User is empty",
     "output_type": "error",
     "traceback": [
      "\u001b[0;31m---------------------------------------------------------------------------\u001b[0m",
      "\u001b[0;31mProgrammingError\u001b[0m                          Traceback (most recent call last)",
      "\u001b[0;32m/var/folders/dj/wcp4hvwd7wzglrm85gjck8lr0000gn/T/ipykernel_4070/765481013.py\u001b[0m in \u001b[0;36m<module>\u001b[0;34m\u001b[0m\n\u001b[0;32m----> 1\u001b[0;31m conn = snowflake.connector.connect(\n\u001b[0m\u001b[1;32m      2\u001b[0m     \u001b[0muser\u001b[0m\u001b[0;34m=\u001b[0m\u001b[0msnowflake_user\u001b[0m\u001b[0;34m,\u001b[0m\u001b[0;34m\u001b[0m\u001b[0;34m\u001b[0m\u001b[0m\n\u001b[1;32m      3\u001b[0m     \u001b[0mpassword\u001b[0m\u001b[0;34m=\u001b[0m\u001b[0msnowflake_password\u001b[0m\u001b[0;34m,\u001b[0m\u001b[0;34m\u001b[0m\u001b[0;34m\u001b[0m\u001b[0m\n\u001b[1;32m      4\u001b[0m     \u001b[0maccount\u001b[0m\u001b[0;34m=\u001b[0m\u001b[0msnowflake_account\u001b[0m\u001b[0;34m,\u001b[0m\u001b[0;34m\u001b[0m\u001b[0;34m\u001b[0m\u001b[0m\n\u001b[1;32m      5\u001b[0m     \u001b[0mwarehouse\u001b[0m\u001b[0;34m=\u001b[0m\u001b[0mwarehouse\u001b[0m\u001b[0;34m,\u001b[0m\u001b[0;34m\u001b[0m\u001b[0;34m\u001b[0m\u001b[0m\n",
      "\u001b[0;32m~/opt/anaconda3/lib/python3.9/site-packages/snowflake/connector/__init__.py\u001b[0m in \u001b[0;36mConnect\u001b[0;34m(**kwargs)\u001b[0m\n\u001b[1;32m     52\u001b[0m \u001b[0;34m@\u001b[0m\u001b[0mwraps\u001b[0m\u001b[0;34m(\u001b[0m\u001b[0mSnowflakeConnection\u001b[0m\u001b[0;34m.\u001b[0m\u001b[0m__init__\u001b[0m\u001b[0;34m)\u001b[0m\u001b[0;34m\u001b[0m\u001b[0;34m\u001b[0m\u001b[0m\n\u001b[1;32m     53\u001b[0m \u001b[0;32mdef\u001b[0m \u001b[0mConnect\u001b[0m\u001b[0;34m(\u001b[0m\u001b[0;34m**\u001b[0m\u001b[0mkwargs\u001b[0m\u001b[0;34m)\u001b[0m \u001b[0;34m->\u001b[0m \u001b[0mSnowflakeConnection\u001b[0m\u001b[0;34m:\u001b[0m\u001b[0;34m\u001b[0m\u001b[0;34m\u001b[0m\u001b[0m\n\u001b[0;32m---> 54\u001b[0;31m     \u001b[0;32mreturn\u001b[0m \u001b[0mSnowflakeConnection\u001b[0m\u001b[0;34m(\u001b[0m\u001b[0;34m**\u001b[0m\u001b[0mkwargs\u001b[0m\u001b[0;34m)\u001b[0m\u001b[0;34m\u001b[0m\u001b[0;34m\u001b[0m\u001b[0m\n\u001b[0m\u001b[1;32m     55\u001b[0m \u001b[0;34m\u001b[0m\u001b[0m\n\u001b[1;32m     56\u001b[0m \u001b[0;34m\u001b[0m\u001b[0m\n",
      "\u001b[0;32m~/opt/anaconda3/lib/python3.9/site-packages/snowflake/connector/connection.py\u001b[0m in \u001b[0;36m__init__\u001b[0;34m(self, connection_name, connections_file_path, **kwargs)\u001b[0m\n\u001b[1;32m    427\u001b[0m             \u001b[0mkwargs\u001b[0m \u001b[0;34m=\u001b[0m \u001b[0m_get_default_connection_params\u001b[0m\u001b[0;34m(\u001b[0m\u001b[0;34m)\u001b[0m\u001b[0;34m\u001b[0m\u001b[0;34m\u001b[0m\u001b[0m\n\u001b[1;32m    428\u001b[0m         \u001b[0mself\u001b[0m\u001b[0;34m.\u001b[0m\u001b[0m__set_error_attributes\u001b[0m\u001b[0;34m(\u001b[0m\u001b[0;34m)\u001b[0m\u001b[0;34m\u001b[0m\u001b[0;34m\u001b[0m\u001b[0m\n\u001b[0;32m--> 429\u001b[0;31m         \u001b[0mself\u001b[0m\u001b[0;34m.\u001b[0m\u001b[0mconnect\u001b[0m\u001b[0;34m(\u001b[0m\u001b[0;34m**\u001b[0m\u001b[0mkwargs\u001b[0m\u001b[0;34m)\u001b[0m\u001b[0;34m\u001b[0m\u001b[0;34m\u001b[0m\u001b[0m\n\u001b[0m\u001b[1;32m    430\u001b[0m         \u001b[0mself\u001b[0m\u001b[0;34m.\u001b[0m\u001b[0m_telemetry\u001b[0m \u001b[0;34m=\u001b[0m \u001b[0mTelemetryClient\u001b[0m\u001b[0;34m(\u001b[0m\u001b[0mself\u001b[0m\u001b[0;34m.\u001b[0m\u001b[0m_rest\u001b[0m\u001b[0;34m)\u001b[0m\u001b[0;34m\u001b[0m\u001b[0;34m\u001b[0m\u001b[0m\n\u001b[1;32m    431\u001b[0m         \u001b[0mself\u001b[0m\u001b[0;34m.\u001b[0m\u001b[0mexpired\u001b[0m \u001b[0;34m=\u001b[0m \u001b[0;32mFalse\u001b[0m\u001b[0;34m\u001b[0m\u001b[0;34m\u001b[0m\u001b[0m\n",
      "\u001b[0;32m~/opt/anaconda3/lib/python3.9/site-packages/snowflake/connector/connection.py\u001b[0m in \u001b[0;36mconnect\u001b[0;34m(self, **kwargs)\u001b[0m\n\u001b[1;32m    681\u001b[0m         \u001b[0mlogger\u001b[0m\u001b[0;34m.\u001b[0m\u001b[0mdebug\u001b[0m\u001b[0;34m(\u001b[0m\u001b[0;34m\"connect\"\u001b[0m\u001b[0;34m)\u001b[0m\u001b[0;34m\u001b[0m\u001b[0;34m\u001b[0m\u001b[0m\n\u001b[1;32m    682\u001b[0m         \u001b[0;32mif\u001b[0m \u001b[0mlen\u001b[0m\u001b[0;34m(\u001b[0m\u001b[0mkwargs\u001b[0m\u001b[0;34m)\u001b[0m \u001b[0;34m>\u001b[0m \u001b[0;36m0\u001b[0m\u001b[0;34m:\u001b[0m\u001b[0;34m\u001b[0m\u001b[0;34m\u001b[0m\u001b[0m\n\u001b[0;32m--> 683\u001b[0;31m             \u001b[0mself\u001b[0m\u001b[0;34m.\u001b[0m\u001b[0m__config\u001b[0m\u001b[0;34m(\u001b[0m\u001b[0;34m**\u001b[0m\u001b[0mkwargs\u001b[0m\u001b[0;34m)\u001b[0m\u001b[0;34m\u001b[0m\u001b[0;34m\u001b[0m\u001b[0m\n\u001b[0m\u001b[1;32m    684\u001b[0m             \u001b[0mTelemetryService\u001b[0m\u001b[0;34m.\u001b[0m\u001b[0mget_instance\u001b[0m\u001b[0;34m(\u001b[0m\u001b[0;34m)\u001b[0m\u001b[0;34m.\u001b[0m\u001b[0mupdate_context\u001b[0m\u001b[0;34m(\u001b[0m\u001b[0mkwargs\u001b[0m\u001b[0;34m)\u001b[0m\u001b[0;34m\u001b[0m\u001b[0;34m\u001b[0m\u001b[0m\n\u001b[1;32m    685\u001b[0m \u001b[0;34m\u001b[0m\u001b[0m\n",
      "\u001b[0;32m~/opt/anaconda3/lib/python3.9/site-packages/snowflake/connector/connection.py\u001b[0m in \u001b[0;36m__config\u001b[0;34m(self, **kwargs)\u001b[0m\n\u001b[1;32m   1158\u001b[0m             \u001b[0;32mif\u001b[0m \u001b[0;32mnot\u001b[0m \u001b[0mself\u001b[0m\u001b[0;34m.\u001b[0m\u001b[0muser\u001b[0m \u001b[0;32mand\u001b[0m \u001b[0mself\u001b[0m\u001b[0;34m.\u001b[0m\u001b[0m_authenticator\u001b[0m \u001b[0;34m!=\u001b[0m \u001b[0mOAUTH_AUTHENTICATOR\u001b[0m\u001b[0;34m:\u001b[0m\u001b[0;34m\u001b[0m\u001b[0;34m\u001b[0m\u001b[0m\n\u001b[1;32m   1159\u001b[0m                 \u001b[0;31m# OAuth Authentication does not require a username\u001b[0m\u001b[0;34m\u001b[0m\u001b[0;34m\u001b[0m\u001b[0m\n\u001b[0;32m-> 1160\u001b[0;31m                 Error.errorhandler_wrapper(\n\u001b[0m\u001b[1;32m   1161\u001b[0m                     \u001b[0mself\u001b[0m\u001b[0;34m,\u001b[0m\u001b[0;34m\u001b[0m\u001b[0;34m\u001b[0m\u001b[0m\n\u001b[1;32m   1162\u001b[0m                     \u001b[0;32mNone\u001b[0m\u001b[0;34m,\u001b[0m\u001b[0;34m\u001b[0m\u001b[0;34m\u001b[0m\u001b[0m\n",
      "\u001b[0;32m~/opt/anaconda3/lib/python3.9/site-packages/snowflake/connector/errors.py\u001b[0m in \u001b[0;36merrorhandler_wrapper\u001b[0;34m(connection, cursor, error_class, error_value)\u001b[0m\n\u001b[1;32m    288\u001b[0m         \"\"\"\n\u001b[1;32m    289\u001b[0m \u001b[0;34m\u001b[0m\u001b[0m\n\u001b[0;32m--> 290\u001b[0;31m         handed_over = Error.hand_to_other_handler(\n\u001b[0m\u001b[1;32m    291\u001b[0m             \u001b[0mconnection\u001b[0m\u001b[0;34m,\u001b[0m\u001b[0;34m\u001b[0m\u001b[0;34m\u001b[0m\u001b[0m\n\u001b[1;32m    292\u001b[0m             \u001b[0mcursor\u001b[0m\u001b[0;34m,\u001b[0m\u001b[0;34m\u001b[0m\u001b[0;34m\u001b[0m\u001b[0m\n",
      "\u001b[0;32m~/opt/anaconda3/lib/python3.9/site-packages/snowflake/connector/errors.py\u001b[0m in \u001b[0;36mhand_to_other_handler\u001b[0;34m(connection, cursor, error_class, error_value)\u001b[0m\n\u001b[1;32m    346\u001b[0m             \u001b[0;32mreturn\u001b[0m \u001b[0;32mTrue\u001b[0m\u001b[0;34m\u001b[0m\u001b[0;34m\u001b[0m\u001b[0m\n\u001b[1;32m    347\u001b[0m         \u001b[0;32melif\u001b[0m \u001b[0mconnection\u001b[0m \u001b[0;32mis\u001b[0m \u001b[0;32mnot\u001b[0m \u001b[0;32mNone\u001b[0m\u001b[0;34m:\u001b[0m\u001b[0;34m\u001b[0m\u001b[0;34m\u001b[0m\u001b[0m\n\u001b[0;32m--> 348\u001b[0;31m             \u001b[0mconnection\u001b[0m\u001b[0;34m.\u001b[0m\u001b[0merrorhandler\u001b[0m\u001b[0;34m(\u001b[0m\u001b[0mconnection\u001b[0m\u001b[0;34m,\u001b[0m \u001b[0mcursor\u001b[0m\u001b[0;34m,\u001b[0m \u001b[0merror_class\u001b[0m\u001b[0;34m,\u001b[0m \u001b[0merror_value\u001b[0m\u001b[0;34m)\u001b[0m\u001b[0;34m\u001b[0m\u001b[0;34m\u001b[0m\u001b[0m\n\u001b[0m\u001b[1;32m    349\u001b[0m             \u001b[0;32mreturn\u001b[0m \u001b[0;32mTrue\u001b[0m\u001b[0;34m\u001b[0m\u001b[0;34m\u001b[0m\u001b[0m\n\u001b[1;32m    350\u001b[0m         \u001b[0;32mreturn\u001b[0m \u001b[0;32mFalse\u001b[0m\u001b[0;34m\u001b[0m\u001b[0;34m\u001b[0m\u001b[0m\n",
      "\u001b[0;32m~/opt/anaconda3/lib/python3.9/site-packages/snowflake/connector/errors.py\u001b[0m in \u001b[0;36mdefault_errorhandler\u001b[0;34m(connection, cursor, error_class, error_value)\u001b[0m\n\u001b[1;32m    219\u001b[0m         \u001b[0merrno\u001b[0m \u001b[0;34m=\u001b[0m \u001b[0merror_value\u001b[0m\u001b[0;34m.\u001b[0m\u001b[0mget\u001b[0m\u001b[0;34m(\u001b[0m\u001b[0;34m\"errno\"\u001b[0m\u001b[0;34m)\u001b[0m\u001b[0;34m\u001b[0m\u001b[0;34m\u001b[0m\u001b[0m\n\u001b[1;32m    220\u001b[0m         \u001b[0mdone_format_msg\u001b[0m \u001b[0;34m=\u001b[0m \u001b[0merror_value\u001b[0m\u001b[0;34m.\u001b[0m\u001b[0mget\u001b[0m\u001b[0;34m(\u001b[0m\u001b[0;34m\"done_format_msg\"\u001b[0m\u001b[0;34m)\u001b[0m\u001b[0;34m\u001b[0m\u001b[0;34m\u001b[0m\u001b[0m\n\u001b[0;32m--> 221\u001b[0;31m         raise error_class(\n\u001b[0m\u001b[1;32m    222\u001b[0m             \u001b[0mmsg\u001b[0m\u001b[0;34m=\u001b[0m\u001b[0merror_value\u001b[0m\u001b[0;34m.\u001b[0m\u001b[0mget\u001b[0m\u001b[0;34m(\u001b[0m\u001b[0;34m\"msg\"\u001b[0m\u001b[0;34m)\u001b[0m\u001b[0;34m,\u001b[0m\u001b[0;34m\u001b[0m\u001b[0;34m\u001b[0m\u001b[0m\n\u001b[1;32m    223\u001b[0m             \u001b[0merrno\u001b[0m\u001b[0;34m=\u001b[0m\u001b[0;32mNone\u001b[0m \u001b[0;32mif\u001b[0m \u001b[0merrno\u001b[0m \u001b[0;32mis\u001b[0m \u001b[0;32mNone\u001b[0m \u001b[0;32melse\u001b[0m \u001b[0mint\u001b[0m\u001b[0;34m(\u001b[0m\u001b[0merrno\u001b[0m\u001b[0;34m)\u001b[0m\u001b[0;34m,\u001b[0m\u001b[0;34m\u001b[0m\u001b[0;34m\u001b[0m\u001b[0m\n",
      "\u001b[0;31mProgrammingError\u001b[0m: 251005: User is empty"
     ]
    }
   ],
   "source": [
    "\n",
    "conn = snowflake.connector.connect(\n",
    "    user=snowflake_user,\n",
    "    password=snowflake_password,\n",
    "    account=snowflake_account,\n",
    "    warehouse=warehouse,\n",
    "    database=database,\n",
    "    schema=schema,\n",
    "    role=role,\n",
    ")\n",
    "cur = conn.cursor()\n"
   ]
  },
  {
   "cell_type": "markdown",
   "id": "f73de9a2",
   "metadata": {
    "papermill": {
     "duration": null,
     "end_time": null,
     "exception": null,
     "start_time": null,
     "status": "pending"
    },
    "tags": []
   },
   "source": [
    "##### Execute SQL commands for setup"
   ]
  },
  {
   "cell_type": "code",
   "execution_count": null,
   "id": "3865520f",
   "metadata": {
    "papermill": {
     "duration": null,
     "end_time": null,
     "exception": null,
     "start_time": null,
     "status": "pending"
    },
    "tags": []
   },
   "outputs": [],
   "source": [
    "\n",
    "try:\n",
    "    cur.execute(\"CREATE DATABASE IF NOT EXISTS SF_DB_CASE1\")\n",
    "    cur.execute(\"USE DATABASE SF_DB_CASE1\")\n",
    "    cur.execute(\"\"\"\n",
    "        CREATE WAREHOUSE IF NOT EXISTS SF_WH_CASE1\n",
    "        WITH WAREHOUSE_SIZE = 'MEDIUM'\n",
    "        WAREHOUSE_TYPE = 'STANDARD'\n",
    "        AUTO_SUSPEND = 300\n",
    "        AUTO_RESUME = TRUE;\n",
    "    \"\"\")\n",
    "    cur.execute(\"CREATE SCHEMA IF NOT EXISTS SF_CASE1\")\n",
    "    cur.execute(\"USE SCHEMA SF_CASE1\")\n",
    "    cur.execute(\"\"\"\n",
    "        CREATE OR REPLACE TABLE METADATA (\n",
    "            OBJECT_NAME VARCHAR(255),\n",
    "            LAST_MODIFIED TIMESTAMP,\n",
    "            SIZE_BYTES NUMBER,\n",
    "            LINK_TO_TXT_FILE VARCHAR(1000)\n",
    "        );\n",
    "    \"\"\")\n",
    "    print(\"Snowflake setup completed successfully.\")\n",
    "except Exception as e:\n",
    "    print(e)\n",
    "finally:\n",
    "    # Always close the cursor\n",
    "    cur.close()\n"
   ]
  },
  {
   "cell_type": "markdown",
   "id": "f201a0a7",
   "metadata": {
    "papermill": {
     "duration": null,
     "end_time": null,
     "exception": null,
     "start_time": null,
     "status": "pending"
    },
    "tags": []
   },
   "source": [
    "##### Initialize S3 client"
   ]
  },
  {
   "cell_type": "code",
   "execution_count": null,
   "id": "a695ac94",
   "metadata": {
    "papermill": {
     "duration": null,
     "end_time": null,
     "exception": null,
     "start_time": null,
     "status": "pending"
    },
    "tags": []
   },
   "outputs": [],
   "source": [
    "\n",
    "s3 = boto3.client('s3', aws_access_key_id=aws_access_key_id, aws_secret_access_key=aws_secret_access_key)\n"
   ]
  },
  {
   "cell_type": "markdown",
   "id": "fff5aa55",
   "metadata": {
    "papermill": {
     "duration": null,
     "end_time": null,
     "exception": null,
     "start_time": null,
     "status": "pending"
    },
    "tags": []
   },
   "source": [
    "##### Specify S3 bucket and prefix and list objects"
   ]
  },
  {
   "cell_type": "code",
   "execution_count": null,
   "id": "e81ff02c",
   "metadata": {
    "papermill": {
     "duration": null,
     "end_time": null,
     "exception": null,
     "start_time": null,
     "status": "pending"
    },
    "tags": []
   },
   "outputs": [],
   "source": [
    "\n",
    "bucket_name = 'bigdata-pypdf'\n",
    "prefix = 'PyPDF/'\n",
    "response = s3.list_objects_v2(Bucket=bucket_name, Prefix=prefix)\n"
   ]
  },
  {
   "cell_type": "code",
   "execution_count": null,
   "id": "be15a348",
   "metadata": {
    "papermill": {
     "duration": null,
     "end_time": null,
     "exception": null,
     "start_time": null,
     "status": "pending"
    },
    "tags": []
   },
   "outputs": [],
   "source": [
    "engine = create_engine(URL(\n",
    "    account = snowflake_account,\n",
    "    user = snowflake_user,\n",
    "    password = snowflake_password,\n",
    "    database = database,\n",
    "    schema = schema,\n",
    "    warehouse = warehouse,\n",
    "    role = role,\n",
    "))\n",
    "\n",
    "metadata = MetaData()\n",
    "\n",
    "\n",
    "metadata_table = Table(\n",
    "    'METADATA', metadata,\n",
    "    Column('OBJECT_NAME', String(255)),\n",
    "    Column('LAST_MODIFIED', DateTime),\n",
    "    Column('SIZE_BYTES', Integer),\n",
    "    Column('LINK_TO_TXT_FILE', String(1000))\n",
    ")\n",
    "\n",
    "metadata.create_all(engine, checkfirst=True)"
   ]
  },
  {
   "cell_type": "markdown",
   "id": "48fcd0bb",
   "metadata": {
    "papermill": {
     "duration": null,
     "end_time": null,
     "exception": null,
     "start_time": null,
     "status": "pending"
    },
    "tags": []
   },
   "source": [
    "##### Metadata transfer to Snowflake"
   ]
  },
  {
   "cell_type": "code",
   "execution_count": null,
   "id": "d873d61d",
   "metadata": {
    "papermill": {
     "duration": null,
     "end_time": null,
     "exception": null,
     "start_time": null,
     "status": "pending"
    },
    "tags": []
   },
   "outputs": [],
   "source": [
    "\n",
    "try:\n",
    "    with engine.connect() as connection:\n",
    "        for obj in response.get('Contents', []):\n",
    "            object_name = obj['Key']\n",
    "            last_modified = obj['LastModified']\n",
    "            size_bytes = obj['Size']\n",
    "            link_to_txt_file = f\"https://{bucket_name}.s3.amazonaws.com/{object_name}\"\n",
    "            connection.execute(metadata_table.insert().values(\n",
    "                OBJECT_NAME=object_name,\n",
    "                LAST_MODIFIED=last_modified,\n",
    "                SIZE_BYTES=size_bytes,\n",
    "                LINK_TO_TXT_FILE=link_to_txt_file\n",
    "            ))\n",
    "    print(\"Metadata transfer to Snowflake completed successfully.\")\n",
    "except Exception as e:\n",
    "    print(e)\n"
   ]
  },
  {
   "cell_type": "code",
   "execution_count": null,
   "id": "741ccb78",
   "metadata": {
    "papermill": {
     "duration": null,
     "end_time": null,
     "exception": null,
     "start_time": null,
     "status": "pending"
    },
    "tags": []
   },
   "outputs": [],
   "source": [
    "\n",
    "conn.close()\n"
   ]
  },
  {
   "cell_type": "code",
   "execution_count": null,
   "id": "a41b5047",
   "metadata": {
    "papermill": {
     "duration": null,
     "end_time": null,
     "exception": null,
     "start_time": null,
     "status": "pending"
    },
    "tags": []
   },
   "outputs": [],
   "source": []
  }
 ],
 "metadata": {
  "kernelspec": {
   "display_name": "Python 3 (ipykernel)",
   "language": "python",
   "name": "python3"
  },
  "language_info": {
   "codemirror_mode": {
    "name": "ipython",
    "version": 3
   },
   "file_extension": ".py",
   "mimetype": "text/x-python",
   "name": "python",
   "nbconvert_exporter": "python",
   "pygments_lexer": "ipython3",
   "version": "3.9.13"
  },
  "papermill": {
   "default_parameters": {},
   "duration": 8.444142,
   "end_time": "2024-02-15T02:13:17.077525",
   "environment_variables": {},
   "exception": true,
   "input_path": "Snowflake_Transfer_Metadata/Snowflake_Transfer_Metadata.ipynb",
   "output_path": "Snowflake_Transfer_Metadata/Snowflake_Transfer_Metadata_output.ipynb",
   "parameters": {},
   "start_time": "2024-02-15T02:13:08.633383",
   "version": "2.5.0"
  }
 },
 "nbformat": 4,
 "nbformat_minor": 5
}