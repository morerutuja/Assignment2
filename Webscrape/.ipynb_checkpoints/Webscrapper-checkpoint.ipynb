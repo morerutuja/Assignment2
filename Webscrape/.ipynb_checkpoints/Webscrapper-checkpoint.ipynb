{
 "cells": [
  {
   "cell_type": "markdown",
   "id": "f6776986",
   "metadata": {},
   "source": [
    "#### Installing the requirements"
   ]
  },
  {
   "cell_type": "code",
   "execution_count": 32,
   "id": "6879766f",
   "metadata": {},
   "outputs": [
    {
     "name": "stdout",
     "output_type": "stream",
     "text": [
      "Requirement already satisfied: requests in /Users/anirudhajoshi/opt/anaconda3/lib/python3.9/site-packages (from -r requirements.txt (line 1)) (2.28.1)\n",
      "Requirement already satisfied: requests_html in /Users/anirudhajoshi/opt/anaconda3/lib/python3.9/site-packages (from -r requirements.txt (line 2)) (0.10.0)\n",
      "Requirement already satisfied: beautifulsoup4 in /Users/anirudhajoshi/opt/anaconda3/lib/python3.9/site-packages (from -r requirements.txt (line 3)) (4.11.1)\n",
      "Requirement already satisfied: asyncio in /Users/anirudhajoshi/opt/anaconda3/lib/python3.9/site-packages (from -r requirements.txt (line 4)) (3.4.3)\n",
      "Requirement already satisfied: nest_asyncio in /Users/anirudhajoshi/opt/anaconda3/lib/python3.9/site-packages (from -r requirements.txt (line 5)) (1.5.5)\n",
      "Requirement already satisfied: pandas in /Users/anirudhajoshi/opt/anaconda3/lib/python3.9/site-packages (from -r requirements.txt (line 6)) (1.4.4)\n",
      "Requirement already satisfied: certifi>=2017.4.17 in /Users/anirudhajoshi/opt/anaconda3/lib/python3.9/site-packages (from requests->-r requirements.txt (line 1)) (2022.6.15)\n",
      "Requirement already satisfied: urllib3<1.27,>=1.21.1 in /Users/anirudhajoshi/opt/anaconda3/lib/python3.9/site-packages (from requests->-r requirements.txt (line 1)) (1.26.11)\n",
      "Requirement already satisfied: idna<4,>=2.5 in /Users/anirudhajoshi/opt/anaconda3/lib/python3.9/site-packages (from requests->-r requirements.txt (line 1)) (3.3)\n",
      "Requirement already satisfied: charset-normalizer<3,>=2 in /Users/anirudhajoshi/opt/anaconda3/lib/python3.9/site-packages (from requests->-r requirements.txt (line 1)) (2.0.4)\n",
      "Requirement already satisfied: pyquery in /Users/anirudhajoshi/opt/anaconda3/lib/python3.9/site-packages (from requests_html->-r requirements.txt (line 2)) (2.0.0)\n",
      "Requirement already satisfied: bs4 in /Users/anirudhajoshi/opt/anaconda3/lib/python3.9/site-packages (from requests_html->-r requirements.txt (line 2)) (0.0.2)\n",
      "Requirement already satisfied: parse in /Users/anirudhajoshi/opt/anaconda3/lib/python3.9/site-packages (from requests_html->-r requirements.txt (line 2)) (1.20.1)\n",
      "Requirement already satisfied: w3lib in /Users/anirudhajoshi/opt/anaconda3/lib/python3.9/site-packages (from requests_html->-r requirements.txt (line 2)) (1.21.0)\n",
      "Requirement already satisfied: pyppeteer>=0.0.14 in /Users/anirudhajoshi/opt/anaconda3/lib/python3.9/site-packages (from requests_html->-r requirements.txt (line 2)) (1.0.2)\n",
      "Requirement already satisfied: fake-useragent in /Users/anirudhajoshi/opt/anaconda3/lib/python3.9/site-packages (from requests_html->-r requirements.txt (line 2)) (1.4.0)\n",
      "Requirement already satisfied: soupsieve>1.2 in /Users/anirudhajoshi/opt/anaconda3/lib/python3.9/site-packages (from beautifulsoup4->-r requirements.txt (line 3)) (2.3.1)\n",
      "Requirement already satisfied: python-dateutil>=2.8.1 in /Users/anirudhajoshi/opt/anaconda3/lib/python3.9/site-packages (from pandas->-r requirements.txt (line 6)) (2.8.2)\n",
      "Requirement already satisfied: pytz>=2020.1 in /Users/anirudhajoshi/opt/anaconda3/lib/python3.9/site-packages (from pandas->-r requirements.txt (line 6)) (2022.7.1)\n",
      "Requirement already satisfied: numpy>=1.18.5 in /Users/anirudhajoshi/opt/anaconda3/lib/python3.9/site-packages (from pandas->-r requirements.txt (line 6)) (1.19.5)\n",
      "Requirement already satisfied: appdirs<2.0.0,>=1.4.3 in /Users/anirudhajoshi/opt/anaconda3/lib/python3.9/site-packages (from pyppeteer>=0.0.14->requests_html->-r requirements.txt (line 2)) (1.4.4)\n",
      "Requirement already satisfied: tqdm<5.0.0,>=4.42.1 in /Users/anirudhajoshi/opt/anaconda3/lib/python3.9/site-packages (from pyppeteer>=0.0.14->requests_html->-r requirements.txt (line 2)) (4.64.1)\n",
      "Requirement already satisfied: importlib-metadata>=1.4 in /Users/anirudhajoshi/opt/anaconda3/lib/python3.9/site-packages (from pyppeteer>=0.0.14->requests_html->-r requirements.txt (line 2)) (4.11.3)\n",
      "Requirement already satisfied: websockets<11.0,>=10.0 in /Users/anirudhajoshi/opt/anaconda3/lib/python3.9/site-packages (from pyppeteer>=0.0.14->requests_html->-r requirements.txt (line 2)) (10.4)\n",
      "Requirement already satisfied: pyee<9.0.0,>=8.1.0 in /Users/anirudhajoshi/opt/anaconda3/lib/python3.9/site-packages (from pyppeteer>=0.0.14->requests_html->-r requirements.txt (line 2)) (8.2.2)\n",
      "Requirement already satisfied: six>=1.5 in /Users/anirudhajoshi/opt/anaconda3/lib/python3.9/site-packages (from python-dateutil>=2.8.1->pandas->-r requirements.txt (line 6)) (1.16.0)\n",
      "Requirement already satisfied: importlib-resources>=5.0 in /Users/anirudhajoshi/opt/anaconda3/lib/python3.9/site-packages (from fake-useragent->requests_html->-r requirements.txt (line 2)) (6.1.1)\n",
      "Requirement already satisfied: lxml>=2.1 in /Users/anirudhajoshi/opt/anaconda3/lib/python3.9/site-packages (from pyquery->requests_html->-r requirements.txt (line 2)) (4.9.1)\n",
      "Requirement already satisfied: cssselect>=1.2.0 in /Users/anirudhajoshi/opt/anaconda3/lib/python3.9/site-packages (from pyquery->requests_html->-r requirements.txt (line 2)) (1.2.0)\n",
      "Requirement already satisfied: zipp>=0.5 in /Users/anirudhajoshi/opt/anaconda3/lib/python3.9/site-packages (from importlib-metadata>=1.4->pyppeteer>=0.0.14->requests_html->-r requirements.txt (line 2)) (3.8.0)\n",
      "Note: you may need to restart the kernel to use updated packages.\n"
     ]
    }
   ],
   "source": [
    "pip install -r requirements.txt"
   ]
  },
  {
   "cell_type": "markdown",
   "id": "e4ca326a",
   "metadata": {},
   "source": [
    "#### Importing the dependencies"
   ]
  },
  {
   "cell_type": "code",
   "execution_count": 34,
   "id": "d9f4c512",
   "metadata": {},
   "outputs": [],
   "source": [
    "# Running the Python script from a Jupyter notebook\n",
    "!python webscrapper_script.py\n"
   ]
  },
  {
   "cell_type": "code",
   "execution_count": 35,
   "id": "26e4a061",
   "metadata": {},
   "outputs": [
    {
     "data": {
      "text/html": [
       "<div>\n",
       "<style scoped>\n",
       "    .dataframe tbody tr th:only-of-type {\n",
       "        vertical-align: middle;\n",
       "    }\n",
       "\n",
       "    .dataframe tbody tr th {\n",
       "        vertical-align: top;\n",
       "    }\n",
       "\n",
       "    .dataframe thead th {\n",
       "        text-align: right;\n",
       "    }\n",
       "</style>\n",
       "<table border=\"1\" class=\"dataframe\">\n",
       "  <thead>\n",
       "    <tr style=\"text-align: right;\">\n",
       "      <th></th>\n",
       "      <th>Name_of_the_topic</th>\n",
       "      <th>Year</th>\n",
       "      <th>Level</th>\n",
       "      <th>Introduction_Summary</th>\n",
       "      <th>Learning_Outcomes</th>\n",
       "      <th>Link_to_the_Summary_Page</th>\n",
       "      <th>Link_to_the_PDF_File</th>\n",
       "    </tr>\n",
       "  </thead>\n",
       "  <tbody>\n",
       "    <tr>\n",
       "      <th>0</th>\n",
       "      <td>Level II</td>\n",
       "      <td>2024\\r\\n Curriculum</td>\n",
       "      <td>CFA ProgramLevel II</td>\n",
       "      <td>As financial analysts, we often use time-serie...</td>\n",
       "      <td>The member should be able to:calculate and eva...</td>\n",
       "      <td>https://www.cfainstitute.org/membership/profes...</td>\n",
       "      <td>https://study.cfainstitute.org/app/member-acce...</td>\n",
       "    </tr>\n",
       "    <tr>\n",
       "      <th>1</th>\n",
       "      <td>Level II</td>\n",
       "      <td>2024\\r\\n Curriculum</td>\n",
       "      <td>CFA ProgramLevel II</td>\n",
       "      <td>Credit analysis plays an important role in the...</td>\n",
       "      <td>The member should be able to:explain expected ...</td>\n",
       "      <td>https://www.cfainstitute.org/membership/profes...</td>\n",
       "      <td>https://study.cfainstitute.org/app/member-acce...</td>\n",
       "    </tr>\n",
       "    <tr>\n",
       "      <th>2</th>\n",
       "      <td>Level I</td>\n",
       "      <td>2023\\r\\n Curriculum</td>\n",
       "      <td>CFA ProgramLevel I</td>\n",
       "      <td>In this section, we explain what alternative i...</td>\n",
       "      <td>The member should be able to:describe types an...</td>\n",
       "      <td>https://www.cfainstitute.org/membership/profes...</td>\n",
       "      <td>/-/media/documents/protected/refresher-reading...</td>\n",
       "    </tr>\n",
       "    <tr>\n",
       "      <th>3</th>\n",
       "      <td>Level II</td>\n",
       "      <td>2024\\r\\n Curriculum</td>\n",
       "      <td>CFA ProgramLevel II</td>\n",
       "      <td>Derivative instruments in which the underlying...</td>\n",
       "      <td>The member should be able to:describe credit d...</td>\n",
       "      <td>https://www.cfainstitute.org/membership/profes...</td>\n",
       "      <td>https://study.cfainstitute.org/app/member-acce...</td>\n",
       "    </tr>\n",
       "    <tr>\n",
       "      <th>4</th>\n",
       "      <td>Level II</td>\n",
       "      <td>2024\\r\\n Curriculum</td>\n",
       "      <td>CFA ProgramLevel II</td>\n",
       "      <td>A contingent claim is a derivative instrument ...</td>\n",
       "      <td>The member should be able to:describe and inte...</td>\n",
       "      <td>https://www.cfainstitute.org/membership/profes...</td>\n",
       "      <td>https://study.cfainstitute.org/app/member-acce...</td>\n",
       "    </tr>\n",
       "  </tbody>\n",
       "</table>\n",
       "</div>"
      ],
      "text/plain": [
       "  Name_of_the_topic                 Year                Level  \\\n",
       "0          Level II  2024\\r\\n Curriculum  CFA ProgramLevel II   \n",
       "1          Level II  2024\\r\\n Curriculum  CFA ProgramLevel II   \n",
       "2           Level I  2023\\r\\n Curriculum   CFA ProgramLevel I   \n",
       "3          Level II  2024\\r\\n Curriculum  CFA ProgramLevel II   \n",
       "4          Level II  2024\\r\\n Curriculum  CFA ProgramLevel II   \n",
       "\n",
       "                                Introduction_Summary  \\\n",
       "0  As financial analysts, we often use time-serie...   \n",
       "1  Credit analysis plays an important role in the...   \n",
       "2  In this section, we explain what alternative i...   \n",
       "3  Derivative instruments in which the underlying...   \n",
       "4  A contingent claim is a derivative instrument ...   \n",
       "\n",
       "                                   Learning_Outcomes  \\\n",
       "0  The member should be able to:calculate and eva...   \n",
       "1  The member should be able to:explain expected ...   \n",
       "2  The member should be able to:describe types an...   \n",
       "3  The member should be able to:describe credit d...   \n",
       "4  The member should be able to:describe and inte...   \n",
       "\n",
       "                            Link_to_the_Summary_Page  \\\n",
       "0  https://www.cfainstitute.org/membership/profes...   \n",
       "1  https://www.cfainstitute.org/membership/profes...   \n",
       "2  https://www.cfainstitute.org/membership/profes...   \n",
       "3  https://www.cfainstitute.org/membership/profes...   \n",
       "4  https://www.cfainstitute.org/membership/profes...   \n",
       "\n",
       "                                Link_to_the_PDF_File  \n",
       "0  https://study.cfainstitute.org/app/member-acce...  \n",
       "1  https://study.cfainstitute.org/app/member-acce...  \n",
       "2  /-/media/documents/protected/refresher-reading...  \n",
       "3  https://study.cfainstitute.org/app/member-acce...  \n",
       "4  https://study.cfainstitute.org/app/member-acce...  "
      ]
     },
     "execution_count": 35,
     "metadata": {},
     "output_type": "execute_result"
    }
   ],
   "source": [
    "import pandas as pd\n",
    "\n",
    "# Load the CSV file into a DataFrame\n",
    "df = pd.read_csv('extracted_updated.csv')\n",
    "\n",
    "# Display the DataFrame\n",
    "df.head()\n"
   ]
  },
  {
   "cell_type": "code",
   "execution_count": null,
   "id": "9766be13",
   "metadata": {},
   "outputs": [],
   "source": []
  }
 ],
 "metadata": {
  "kernelspec": {
   "display_name": "Python 3 (ipykernel)",
   "language": "python",
   "name": "python3"
  },
  "language_info": {
   "codemirror_mode": {
    "name": "ipython",
    "version": 3
   },
   "file_extension": ".py",
   "mimetype": "text/x-python",
   "name": "python",
   "nbconvert_exporter": "python",
   "pygments_lexer": "ipython3",
   "version": "3.9.13"
  }
 },
 "nbformat": 4,
 "nbformat_minor": 5
}
