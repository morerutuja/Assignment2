{
 "cells": [
  {
   "cell_type": "markdown",
   "id": "f6776986",
   "metadata": {},
   "source": [
    "#### Installing the requirements"
   ]
  },
  {
   "cell_type": "code",
   "execution_count": 1,
   "id": "6879766f",
   "metadata": {
    "execution": {
     "iopub.execute_input": "2024-02-15T03:01:46.650516Z",
     "iopub.status.busy": "2024-02-15T03:01:46.650168Z",
     "iopub.status.idle": "2024-02-15T03:01:48.277050Z",
     "shell.execute_reply": "2024-02-15T03:01:48.276479Z"
    }
   },
   "outputs": [
    {
     "name": "stdout",
     "output_type": "stream",
     "text": [
      "Requirement already satisfied: requests in /opt/homebrew/opt/python-requests/lib/python3.12/site-packages (from -r requirements.txt (line 1)) (2.31.0)\r\n",
      "Requirement already satisfied: requests_html in /opt/homebrew/Cellar/jupyterlab/4.0.10/libexec/lib/python3.12/site-packages (from -r requirements.txt (line 2)) (0.10.0)\r\n",
      "Requirement already satisfied: beautifulsoup4 in /opt/homebrew/Cellar/jupyterlab/4.0.10/libexec/lib/python3.12/site-packages (from -r requirements.txt (line 3)) (4.12.2)\r\n",
      "Requirement already satisfied: pandas in /opt/homebrew/Cellar/jupyterlab/4.0.10/libexec/lib/python3.12/site-packages (from -r requirements.txt (line 4)) (2.2.0)\r\n",
      "Requirement already satisfied: charset-normalizer<4,>=2 in /opt/homebrew/opt/python-charset-normalizer/lib/python3.12/site-packages (from requests->-r requirements.txt (line 1)) (3.3.2)\r\n",
      "Requirement already satisfied: idna<4,>=2.5 in /opt/homebrew/opt/python-idna/lib/python3.12/site-packages (from requests->-r requirements.txt (line 1)) (3.6)\r\n",
      "Requirement already satisfied: urllib3<3,>=1.21.1 in /opt/homebrew/Cellar/jupyterlab/4.0.10/libexec/lib/python3.12/site-packages (from requests->-r requirements.txt (line 1)) (1.26.18)\r\n",
      "Requirement already satisfied: certifi>=2017.4.17 in /opt/homebrew/opt/python-certifi/lib/python3.12/site-packages (from requests->-r requirements.txt (line 1)) (2023.11.17)\r\n",
      "Requirement already satisfied: pyquery in /opt/homebrew/Cellar/jupyterlab/4.0.10/libexec/lib/python3.12/site-packages (from requests_html->-r requirements.txt (line 2)) (2.0.0)\r\n",
      "Requirement already satisfied: fake-useragent in /opt/homebrew/Cellar/jupyterlab/4.0.10/libexec/lib/python3.12/site-packages (from requests_html->-r requirements.txt (line 2)) (1.4.0)\r\n",
      "Requirement already satisfied: parse in /opt/homebrew/Cellar/jupyterlab/4.0.10/libexec/lib/python3.12/site-packages (from requests_html->-r requirements.txt (line 2)) (1.20.1)\r\n",
      "Requirement already satisfied: bs4 in /opt/homebrew/Cellar/jupyterlab/4.0.10/libexec/lib/python3.12/site-packages (from requests_html->-r requirements.txt (line 2)) (0.0.2)\r\n",
      "Requirement already satisfied: w3lib in /opt/homebrew/Cellar/jupyterlab/4.0.10/libexec/lib/python3.12/site-packages (from requests_html->-r requirements.txt (line 2)) (2.1.2)\r\n",
      "Requirement already satisfied: pyppeteer>=0.0.14 in /opt/homebrew/Cellar/jupyterlab/4.0.10/libexec/lib/python3.12/site-packages (from requests_html->-r requirements.txt (line 2)) (1.0.2)\r\n",
      "Requirement already satisfied: soupsieve>1.2 in /opt/homebrew/Cellar/jupyterlab/4.0.10/libexec/lib/python3.12/site-packages (from beautifulsoup4->-r requirements.txt (line 3)) (2.5)\r\n",
      "Requirement already satisfied: numpy<2,>=1.26.0 in /opt/homebrew/Cellar/jupyterlab/4.0.10/libexec/lib/python3.12/site-packages (from pandas->-r requirements.txt (line 4)) (1.26.4)\r\n",
      "Requirement already satisfied: python-dateutil>=2.8.2 in /opt/homebrew/opt/python-dateutil/lib/python3.12/site-packages (from pandas->-r requirements.txt (line 4)) (2.8.2)\r\n",
      "Requirement already satisfied: pytz>=2020.1 in /opt/homebrew/Cellar/jupyterlab/4.0.10/libexec/lib/python3.12/site-packages (from pandas->-r requirements.txt (line 4)) (2024.1)\r\n",
      "Requirement already satisfied: tzdata>=2022.7 in /opt/homebrew/Cellar/jupyterlab/4.0.10/libexec/lib/python3.12/site-packages (from pandas->-r requirements.txt (line 4)) (2024.1)\r\n",
      "Requirement already satisfied: appdirs<2.0.0,>=1.4.3 in /opt/homebrew/Cellar/jupyterlab/4.0.10/libexec/lib/python3.12/site-packages (from pyppeteer>=0.0.14->requests_html->-r requirements.txt (line 2)) (1.4.4)\r\n",
      "Requirement already satisfied: importlib-metadata>=1.4 in /opt/homebrew/Cellar/jupyterlab/4.0.10/libexec/lib/python3.12/site-packages (from pyppeteer>=0.0.14->requests_html->-r requirements.txt (line 2)) (7.0.1)\r\n",
      "Requirement already satisfied: pyee<9.0.0,>=8.1.0 in /opt/homebrew/Cellar/jupyterlab/4.0.10/libexec/lib/python3.12/site-packages (from pyppeteer>=0.0.14->requests_html->-r requirements.txt (line 2)) (8.2.2)\r\n",
      "Requirement already satisfied: tqdm<5.0.0,>=4.42.1 in /opt/homebrew/Cellar/jupyterlab/4.0.10/libexec/lib/python3.12/site-packages (from pyppeteer>=0.0.14->requests_html->-r requirements.txt (line 2)) (4.66.2)\r\n",
      "Requirement already satisfied: websockets<11.0,>=10.0 in /opt/homebrew/Cellar/jupyterlab/4.0.10/libexec/lib/python3.12/site-packages (from pyppeteer>=0.0.14->requests_html->-r requirements.txt (line 2)) (10.4)\r\n",
      "Requirement already satisfied: six>=1.5 in /opt/homebrew/opt/six/lib/python3.12/site-packages (from python-dateutil>=2.8.2->pandas->-r requirements.txt (line 4)) (1.16.0)\r\n",
      "Requirement already satisfied: lxml>=2.1 in /opt/homebrew/Cellar/jupyterlab/4.0.10/libexec/lib/python3.12/site-packages (from pyquery->requests_html->-r requirements.txt (line 2)) (5.1.0)\r\n",
      "Requirement already satisfied: cssselect>=1.2.0 in /opt/homebrew/Cellar/jupyterlab/4.0.10/libexec/lib/python3.12/site-packages (from pyquery->requests_html->-r requirements.txt (line 2)) (1.2.0)\r\n",
      "Requirement already satisfied: zipp>=0.5 in /opt/homebrew/Cellar/jupyterlab/4.0.10/libexec/lib/python3.12/site-packages (from importlib-metadata>=1.4->pyppeteer>=0.0.14->requests_html->-r requirements.txt (line 2)) (3.17.0)\r\n",
      "\r\n",
      "\u001b[1m[\u001b[0m\u001b[34;49mnotice\u001b[0m\u001b[1;39;49m]\u001b[0m\u001b[39;49m A new release of pip is available: \u001b[0m\u001b[31;49m23.3.1\u001b[0m\u001b[39;49m -> \u001b[0m\u001b[32;49m24.0\u001b[0m\r\n",
      "\u001b[1m[\u001b[0m\u001b[34;49mnotice\u001b[0m\u001b[1;39;49m]\u001b[0m\u001b[39;49m To update, run: \u001b[0m\u001b[32;49m/opt/homebrew/Cellar/jupyterlab/4.0.10/libexec/bin/python -m pip install --upgrade pip\u001b[0m\r\n",
      "Note: you may need to restart the kernel to use updated packages.\n"
     ]
    }
   ],
   "source": [
    "pip install -r requirements.txt"
   ]
  },
  {
   "cell_type": "markdown",
   "id": "e4ca326a",
   "metadata": {},
   "source": [
    "#### Importing the dependencies"
   ]
  },
  {
   "cell_type": "code",
   "execution_count": 2,
   "id": "d9f4c512",
   "metadata": {
    "execution": {
     "iopub.execute_input": "2024-02-15T03:01:48.279725Z",
     "iopub.status.busy": "2024-02-15T03:01:48.279497Z",
     "iopub.status.idle": "2024-02-15T03:05:52.115699Z",
     "shell.execute_reply": "2024-02-15T03:05:52.105336Z"
    }
   },
   "outputs": [],
   "source": [
    "# Running the Python script from a Jupyter notebook\n",
    "!python webscrapper_script.py\n"
   ]
  },
  {
   "cell_type": "code",
   "execution_count": 3,
   "id": "26e4a061",
   "metadata": {
    "execution": {
     "iopub.execute_input": "2024-02-15T03:05:52.166486Z",
     "iopub.status.busy": "2024-02-15T03:05:52.166033Z",
     "iopub.status.idle": "2024-02-15T03:05:52.172867Z",
     "shell.execute_reply": "2024-02-15T03:05:52.172157Z"
    }
   },
   "outputs": [],
   "source": [
    "# import pandas as pd\n",
    "\n",
    "# # Load the CSV file into a DataFrame\n",
    "# df = pd.read_csv('extracted_updated.csv')\n",
    "\n",
    "# # Display the DataFrame\n",
    "# df.head()\n"
   ]
  },
  {
   "cell_type": "code",
   "execution_count": null,
   "id": "9766be13",
   "metadata": {},
   "outputs": [],
   "source": []
  }
 ],
 "metadata": {
  "kernelspec": {
   "display_name": "Python 3 (ipykernel)",
   "language": "python",
   "name": "python3"
  },
  "language_info": {
   "codemirror_mode": {
    "name": "ipython",
    "version": 3
   },
   "file_extension": ".py",
   "mimetype": "text/x-python",
   "name": "python",
   "nbconvert_exporter": "python",
   "pygments_lexer": "ipython3",
   "version": "3.12.1"
  }
 },
 "nbformat": 4,
 "nbformat_minor": 5
}
