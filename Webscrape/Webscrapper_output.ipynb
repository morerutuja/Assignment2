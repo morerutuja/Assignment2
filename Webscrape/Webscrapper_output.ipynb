{
 "cells": [
  {
   "cell_type": "markdown",
   "id": "634c104c",
   "metadata": {
    "tags": [
     "papermill-error-cell-tag"
    ]
   },
   "source": [
    "<span style=\"color:red; font-family:Helvetica Neue, Helvetica, Arial, sans-serif; font-size:2em;\">An Exception was encountered at '<a href=\"#papermill-error-cell\">In [3]</a>'.</span>"
   ]
  },
  {
   "cell_type": "markdown",
   "id": "f6776986",
   "metadata": {
    "papermill": {
     "duration": 0.007158,
     "end_time": "2024-02-15T02:12:51.933337",
     "exception": false,
     "start_time": "2024-02-15T02:12:51.926179",
     "status": "completed"
    },
    "tags": []
   },
   "source": [
    "#### Installing the requirements"
   ]
  },
  {
   "cell_type": "code",
   "execution_count": 1,
   "id": "6879766f",
   "metadata": {
    "execution": {
     "iopub.execute_input": "2024-02-15T02:12:51.943484Z",
     "iopub.status.busy": "2024-02-15T02:12:51.942911Z",
     "iopub.status.idle": "2024-02-15T02:12:56.319834Z",
     "shell.execute_reply": "2024-02-15T02:12:56.318807Z"
    },
    "papermill": {
     "duration": 4.384457,
     "end_time": "2024-02-15T02:12:56.322201",
     "exception": false,
     "start_time": "2024-02-15T02:12:51.937744",
     "status": "completed"
    },
    "tags": []
   },
   "outputs": [
    {
     "name": "stdout",
     "output_type": "stream",
     "text": [
      "Requirement already satisfied: papermill in /Users/anirudhajoshi/opt/anaconda3/lib/python3.9/site-packages (from -r requirements.txt (line 1)) (2.5.0)\r\n"
     ]
    },
    {
     "name": "stdout",
     "output_type": "stream",
     "text": [
      "Requirement already satisfied: nbformat>=5.1.2 in /Users/anirudhajoshi/opt/anaconda3/lib/python3.9/site-packages (from papermill->-r requirements.txt (line 1)) (5.5.0)\r\n",
      "Requirement already satisfied: nbclient>=0.2.0 in /Users/anirudhajoshi/opt/anaconda3/lib/python3.9/site-packages (from papermill->-r requirements.txt (line 1)) (0.5.13)\r\n",
      "Requirement already satisfied: tenacity>=5.0.2 in /Users/anirudhajoshi/opt/anaconda3/lib/python3.9/site-packages (from papermill->-r requirements.txt (line 1)) (8.0.1)\r\n",
      "Requirement already satisfied: click in /Users/anirudhajoshi/opt/anaconda3/lib/python3.9/site-packages (from papermill->-r requirements.txt (line 1)) (8.0.4)\r\n",
      "Requirement already satisfied: pyyaml in /Users/anirudhajoshi/opt/anaconda3/lib/python3.9/site-packages (from papermill->-r requirements.txt (line 1)) (6.0)\r\n",
      "Requirement already satisfied: tqdm>=4.32.2 in /Users/anirudhajoshi/opt/anaconda3/lib/python3.9/site-packages (from papermill->-r requirements.txt (line 1)) (4.64.1)\r\n",
      "Requirement already satisfied: entrypoints in /Users/anirudhajoshi/opt/anaconda3/lib/python3.9/site-packages (from papermill->-r requirements.txt (line 1)) (0.4)\r\n",
      "Requirement already satisfied: requests in /Users/anirudhajoshi/opt/anaconda3/lib/python3.9/site-packages (from papermill->-r requirements.txt (line 1)) (2.28.1)\r\n",
      "Requirement already satisfied: traitlets>=5.0.0 in /Users/anirudhajoshi/opt/anaconda3/lib/python3.9/site-packages (from nbclient>=0.2.0->papermill->-r requirements.txt (line 1)) (5.1.1)\r\n"
     ]
    },
    {
     "name": "stdout",
     "output_type": "stream",
     "text": [
      "Requirement already satisfied: jupyter-client>=6.1.5 in /Users/anirudhajoshi/opt/anaconda3/lib/python3.9/site-packages (from nbclient>=0.2.0->papermill->-r requirements.txt (line 1)) (7.3.4)\r\n",
      "Requirement already satisfied: nest-asyncio in /Users/anirudhajoshi/opt/anaconda3/lib/python3.9/site-packages (from nbclient>=0.2.0->papermill->-r requirements.txt (line 1)) (1.5.5)\r\n",
      "Requirement already satisfied: jupyter_core in /Users/anirudhajoshi/opt/anaconda3/lib/python3.9/site-packages (from nbformat>=5.1.2->papermill->-r requirements.txt (line 1)) (4.11.1)\r\n",
      "Requirement already satisfied: jsonschema>=2.6 in /Users/anirudhajoshi/opt/anaconda3/lib/python3.9/site-packages (from nbformat>=5.1.2->papermill->-r requirements.txt (line 1)) (4.16.0)\r\n",
      "Requirement already satisfied: fastjsonschema in /Users/anirudhajoshi/opt/anaconda3/lib/python3.9/site-packages (from nbformat>=5.1.2->papermill->-r requirements.txt (line 1)) (2.16.2)\r\n",
      "Requirement already satisfied: charset-normalizer<3,>=2 in /Users/anirudhajoshi/opt/anaconda3/lib/python3.9/site-packages (from requests->papermill->-r requirements.txt (line 1)) (2.0.4)\r\n",
      "Requirement already satisfied: certifi>=2017.4.17 in /Users/anirudhajoshi/opt/anaconda3/lib/python3.9/site-packages (from requests->papermill->-r requirements.txt (line 1)) (2022.6.15)\r\n",
      "Requirement already satisfied: idna<4,>=2.5 in /Users/anirudhajoshi/opt/anaconda3/lib/python3.9/site-packages (from requests->papermill->-r requirements.txt (line 1)) (3.3)\r\n",
      "Requirement already satisfied: urllib3<1.27,>=1.21.1 in /Users/anirudhajoshi/opt/anaconda3/lib/python3.9/site-packages (from requests->papermill->-r requirements.txt (line 1)) (1.26.11)\r\n"
     ]
    },
    {
     "name": "stdout",
     "output_type": "stream",
     "text": [
      "Requirement already satisfied: attrs>=17.4.0 in /Users/anirudhajoshi/opt/anaconda3/lib/python3.9/site-packages (from jsonschema>=2.6->nbformat>=5.1.2->papermill->-r requirements.txt (line 1)) (21.4.0)\r\n",
      "Requirement already satisfied: pyrsistent!=0.17.0,!=0.17.1,!=0.17.2,>=0.14.0 in /Users/anirudhajoshi/opt/anaconda3/lib/python3.9/site-packages (from jsonschema>=2.6->nbformat>=5.1.2->papermill->-r requirements.txt (line 1)) (0.18.0)\r\n",
      "Requirement already satisfied: tornado>=6.0 in /Users/anirudhajoshi/opt/anaconda3/lib/python3.9/site-packages (from jupyter-client>=6.1.5->nbclient>=0.2.0->papermill->-r requirements.txt (line 1)) (6.1)\r\n",
      "Requirement already satisfied: python-dateutil>=2.8.2 in /Users/anirudhajoshi/opt/anaconda3/lib/python3.9/site-packages (from jupyter-client>=6.1.5->nbclient>=0.2.0->papermill->-r requirements.txt (line 1)) (2.8.2)\r\n",
      "Requirement already satisfied: pyzmq>=23.0 in /Users/anirudhajoshi/opt/anaconda3/lib/python3.9/site-packages (from jupyter-client>=6.1.5->nbclient>=0.2.0->papermill->-r requirements.txt (line 1)) (23.2.0)\r\n"
     ]
    },
    {
     "name": "stdout",
     "output_type": "stream",
     "text": [
      "Requirement already satisfied: six>=1.5 in /Users/anirudhajoshi/opt/anaconda3/lib/python3.9/site-packages (from python-dateutil>=2.8.2->jupyter-client>=6.1.5->nbclient>=0.2.0->papermill->-r requirements.txt (line 1)) (1.16.0)\r\n"
     ]
    },
    {
     "name": "stdout",
     "output_type": "stream",
     "text": [
      "Note: you may need to restart the kernel to use updated packages.\n"
     ]
    }
   ],
   "source": [
    "pip install -r requirements.txt"
   ]
  },
  {
   "cell_type": "markdown",
   "id": "e4ca326a",
   "metadata": {
    "papermill": {
     "duration": 0.002099,
     "end_time": "2024-02-15T02:12:56.328575",
     "exception": false,
     "start_time": "2024-02-15T02:12:56.326476",
     "status": "completed"
    },
    "tags": []
   },
   "source": [
    "#### Importing the dependencies"
   ]
  },
  {
   "cell_type": "code",
   "execution_count": 2,
   "id": "d9f4c512",
   "metadata": {
    "execution": {
     "iopub.execute_input": "2024-02-15T02:12:56.334356Z",
     "iopub.status.busy": "2024-02-15T02:12:56.334078Z",
     "iopub.status.idle": "2024-02-15T02:12:56.527230Z",
     "shell.execute_reply": "2024-02-15T02:12:56.526471Z"
    },
    "papermill": {
     "duration": 0.198921,
     "end_time": "2024-02-15T02:12:56.529594",
     "exception": false,
     "start_time": "2024-02-15T02:12:56.330673",
     "status": "completed"
    },
    "tags": []
   },
   "outputs": [
    {
     "name": "stdout",
     "output_type": "stream",
     "text": [
      "python: can't open file '/Users/anirudhajoshi/Documents/NEU_Work/NEU_Spring2024_Work/Big_Data_IA/Assignment2_draft/webscrapper_script.py': [Errno 2] No such file or directory\r\n"
     ]
    }
   ],
   "source": [
    "# Running the Python script from a Jupyter notebook\n",
    "!python webscrapper_script.py\n"
   ]
  },
  {
   "cell_type": "markdown",
   "id": "d024bd38",
   "metadata": {
    "tags": [
     "papermill-error-cell-tag"
    ]
   },
   "source": [
    "<span id=\"papermill-error-cell\" style=\"color:red; font-family:Helvetica Neue, Helvetica, Arial, sans-serif; font-size:2em;\">Execution using papermill encountered an exception here and stopped:</span>"
   ]
  },
  {
   "cell_type": "code",
   "execution_count": 3,
   "id": "26e4a061",
   "metadata": {
    "execution": {
     "iopub.execute_input": "2024-02-15T02:12:56.536753Z",
     "iopub.status.busy": "2024-02-15T02:12:56.536482Z",
     "iopub.status.idle": "2024-02-15T02:12:57.279186Z",
     "shell.execute_reply": "2024-02-15T02:12:57.278341Z"
    },
    "papermill": {
     "duration": 0.748052,
     "end_time": "2024-02-15T02:12:57.280690",
     "exception": true,
     "start_time": "2024-02-15T02:12:56.532638",
     "status": "failed"
    },
    "tags": []
   },
   "outputs": [
    {
     "ename": "FileNotFoundError",
     "evalue": "[Errno 2] No such file or directory: 'extracted_updated.csv'",
     "output_type": "error",
     "traceback": [
      "\u001b[0;31m---------------------------------------------------------------------------\u001b[0m",
      "\u001b[0;31mFileNotFoundError\u001b[0m                         Traceback (most recent call last)",
      "\u001b[0;32m/var/folders/dj/wcp4hvwd7wzglrm85gjck8lr0000gn/T/ipykernel_3853/971235699.py\u001b[0m in \u001b[0;36m<module>\u001b[0;34m\u001b[0m\n\u001b[1;32m      2\u001b[0m \u001b[0;34m\u001b[0m\u001b[0m\n\u001b[1;32m      3\u001b[0m \u001b[0;31m# Load the CSV file into a DataFrame\u001b[0m\u001b[0;34m\u001b[0m\u001b[0;34m\u001b[0m\u001b[0m\n\u001b[0;32m----> 4\u001b[0;31m \u001b[0mdf\u001b[0m \u001b[0;34m=\u001b[0m \u001b[0mpd\u001b[0m\u001b[0;34m.\u001b[0m\u001b[0mread_csv\u001b[0m\u001b[0;34m(\u001b[0m\u001b[0;34m'extracted_updated.csv'\u001b[0m\u001b[0;34m)\u001b[0m\u001b[0;34m\u001b[0m\u001b[0;34m\u001b[0m\u001b[0m\n\u001b[0m\u001b[1;32m      5\u001b[0m \u001b[0;34m\u001b[0m\u001b[0m\n\u001b[1;32m      6\u001b[0m \u001b[0;31m# Display the DataFrame\u001b[0m\u001b[0;34m\u001b[0m\u001b[0;34m\u001b[0m\u001b[0m\n",
      "\u001b[0;32m~/opt/anaconda3/lib/python3.9/site-packages/pandas/util/_decorators.py\u001b[0m in \u001b[0;36mwrapper\u001b[0;34m(*args, **kwargs)\u001b[0m\n\u001b[1;32m    309\u001b[0m                     \u001b[0mstacklevel\u001b[0m\u001b[0;34m=\u001b[0m\u001b[0mstacklevel\u001b[0m\u001b[0;34m,\u001b[0m\u001b[0;34m\u001b[0m\u001b[0;34m\u001b[0m\u001b[0m\n\u001b[1;32m    310\u001b[0m                 )\n\u001b[0;32m--> 311\u001b[0;31m             \u001b[0;32mreturn\u001b[0m \u001b[0mfunc\u001b[0m\u001b[0;34m(\u001b[0m\u001b[0;34m*\u001b[0m\u001b[0margs\u001b[0m\u001b[0;34m,\u001b[0m \u001b[0;34m**\u001b[0m\u001b[0mkwargs\u001b[0m\u001b[0;34m)\u001b[0m\u001b[0;34m\u001b[0m\u001b[0;34m\u001b[0m\u001b[0m\n\u001b[0m\u001b[1;32m    312\u001b[0m \u001b[0;34m\u001b[0m\u001b[0m\n\u001b[1;32m    313\u001b[0m         \u001b[0;32mreturn\u001b[0m \u001b[0mwrapper\u001b[0m\u001b[0;34m\u001b[0m\u001b[0;34m\u001b[0m\u001b[0m\n",
      "\u001b[0;32m~/opt/anaconda3/lib/python3.9/site-packages/pandas/io/parsers/readers.py\u001b[0m in \u001b[0;36mread_csv\u001b[0;34m(filepath_or_buffer, sep, delimiter, header, names, index_col, usecols, squeeze, prefix, mangle_dupe_cols, dtype, engine, converters, true_values, false_values, skipinitialspace, skiprows, skipfooter, nrows, na_values, keep_default_na, na_filter, verbose, skip_blank_lines, parse_dates, infer_datetime_format, keep_date_col, date_parser, dayfirst, cache_dates, iterator, chunksize, compression, thousands, decimal, lineterminator, quotechar, quoting, doublequote, escapechar, comment, encoding, encoding_errors, dialect, error_bad_lines, warn_bad_lines, on_bad_lines, delim_whitespace, low_memory, memory_map, float_precision, storage_options)\u001b[0m\n\u001b[1;32m    676\u001b[0m     \u001b[0mkwds\u001b[0m\u001b[0;34m.\u001b[0m\u001b[0mupdate\u001b[0m\u001b[0;34m(\u001b[0m\u001b[0mkwds_defaults\u001b[0m\u001b[0;34m)\u001b[0m\u001b[0;34m\u001b[0m\u001b[0;34m\u001b[0m\u001b[0m\n\u001b[1;32m    677\u001b[0m \u001b[0;34m\u001b[0m\u001b[0m\n\u001b[0;32m--> 678\u001b[0;31m     \u001b[0;32mreturn\u001b[0m \u001b[0m_read\u001b[0m\u001b[0;34m(\u001b[0m\u001b[0mfilepath_or_buffer\u001b[0m\u001b[0;34m,\u001b[0m \u001b[0mkwds\u001b[0m\u001b[0;34m)\u001b[0m\u001b[0;34m\u001b[0m\u001b[0;34m\u001b[0m\u001b[0m\n\u001b[0m\u001b[1;32m    679\u001b[0m \u001b[0;34m\u001b[0m\u001b[0m\n\u001b[1;32m    680\u001b[0m \u001b[0;34m\u001b[0m\u001b[0m\n",
      "\u001b[0;32m~/opt/anaconda3/lib/python3.9/site-packages/pandas/io/parsers/readers.py\u001b[0m in \u001b[0;36m_read\u001b[0;34m(filepath_or_buffer, kwds)\u001b[0m\n\u001b[1;32m    573\u001b[0m \u001b[0;34m\u001b[0m\u001b[0m\n\u001b[1;32m    574\u001b[0m     \u001b[0;31m# Create the parser.\u001b[0m\u001b[0;34m\u001b[0m\u001b[0;34m\u001b[0m\u001b[0m\n\u001b[0;32m--> 575\u001b[0;31m     \u001b[0mparser\u001b[0m \u001b[0;34m=\u001b[0m \u001b[0mTextFileReader\u001b[0m\u001b[0;34m(\u001b[0m\u001b[0mfilepath_or_buffer\u001b[0m\u001b[0;34m,\u001b[0m \u001b[0;34m**\u001b[0m\u001b[0mkwds\u001b[0m\u001b[0;34m)\u001b[0m\u001b[0;34m\u001b[0m\u001b[0;34m\u001b[0m\u001b[0m\n\u001b[0m\u001b[1;32m    576\u001b[0m \u001b[0;34m\u001b[0m\u001b[0m\n\u001b[1;32m    577\u001b[0m     \u001b[0;32mif\u001b[0m \u001b[0mchunksize\u001b[0m \u001b[0;32mor\u001b[0m \u001b[0miterator\u001b[0m\u001b[0;34m:\u001b[0m\u001b[0;34m\u001b[0m\u001b[0;34m\u001b[0m\u001b[0m\n",
      "\u001b[0;32m~/opt/anaconda3/lib/python3.9/site-packages/pandas/io/parsers/readers.py\u001b[0m in \u001b[0;36m__init__\u001b[0;34m(self, f, engine, **kwds)\u001b[0m\n\u001b[1;32m    930\u001b[0m \u001b[0;34m\u001b[0m\u001b[0m\n\u001b[1;32m    931\u001b[0m         \u001b[0mself\u001b[0m\u001b[0;34m.\u001b[0m\u001b[0mhandles\u001b[0m\u001b[0;34m:\u001b[0m \u001b[0mIOHandles\u001b[0m \u001b[0;34m|\u001b[0m \u001b[0;32mNone\u001b[0m \u001b[0;34m=\u001b[0m \u001b[0;32mNone\u001b[0m\u001b[0;34m\u001b[0m\u001b[0;34m\u001b[0m\u001b[0m\n\u001b[0;32m--> 932\u001b[0;31m         \u001b[0mself\u001b[0m\u001b[0;34m.\u001b[0m\u001b[0m_engine\u001b[0m \u001b[0;34m=\u001b[0m \u001b[0mself\u001b[0m\u001b[0;34m.\u001b[0m\u001b[0m_make_engine\u001b[0m\u001b[0;34m(\u001b[0m\u001b[0mf\u001b[0m\u001b[0;34m,\u001b[0m \u001b[0mself\u001b[0m\u001b[0;34m.\u001b[0m\u001b[0mengine\u001b[0m\u001b[0;34m)\u001b[0m\u001b[0;34m\u001b[0m\u001b[0;34m\u001b[0m\u001b[0m\n\u001b[0m\u001b[1;32m    933\u001b[0m \u001b[0;34m\u001b[0m\u001b[0m\n\u001b[1;32m    934\u001b[0m     \u001b[0;32mdef\u001b[0m \u001b[0mclose\u001b[0m\u001b[0;34m(\u001b[0m\u001b[0mself\u001b[0m\u001b[0;34m)\u001b[0m\u001b[0;34m:\u001b[0m\u001b[0;34m\u001b[0m\u001b[0;34m\u001b[0m\u001b[0m\n",
      "\u001b[0;32m~/opt/anaconda3/lib/python3.9/site-packages/pandas/io/parsers/readers.py\u001b[0m in \u001b[0;36m_make_engine\u001b[0;34m(self, f, engine)\u001b[0m\n\u001b[1;32m   1214\u001b[0m             \u001b[0;31m# \"Union[str, PathLike[str], ReadCsvBuffer[bytes], ReadCsvBuffer[str]]\"\u001b[0m\u001b[0;34m\u001b[0m\u001b[0;34m\u001b[0m\u001b[0m\n\u001b[1;32m   1215\u001b[0m             \u001b[0;31m# , \"str\", \"bool\", \"Any\", \"Any\", \"Any\", \"Any\", \"Any\"\u001b[0m\u001b[0;34m\u001b[0m\u001b[0;34m\u001b[0m\u001b[0m\n\u001b[0;32m-> 1216\u001b[0;31m             self.handles = get_handle(  # type: ignore[call-overload]\n\u001b[0m\u001b[1;32m   1217\u001b[0m                 \u001b[0mf\u001b[0m\u001b[0;34m,\u001b[0m\u001b[0;34m\u001b[0m\u001b[0;34m\u001b[0m\u001b[0m\n\u001b[1;32m   1218\u001b[0m                 \u001b[0mmode\u001b[0m\u001b[0;34m,\u001b[0m\u001b[0;34m\u001b[0m\u001b[0;34m\u001b[0m\u001b[0m\n",
      "\u001b[0;32m~/opt/anaconda3/lib/python3.9/site-packages/pandas/io/common.py\u001b[0m in \u001b[0;36mget_handle\u001b[0;34m(path_or_buf, mode, encoding, compression, memory_map, is_text, errors, storage_options)\u001b[0m\n\u001b[1;32m    784\u001b[0m         \u001b[0;32mif\u001b[0m \u001b[0mioargs\u001b[0m\u001b[0;34m.\u001b[0m\u001b[0mencoding\u001b[0m \u001b[0;32mand\u001b[0m \u001b[0;34m\"b\"\u001b[0m \u001b[0;32mnot\u001b[0m \u001b[0;32min\u001b[0m \u001b[0mioargs\u001b[0m\u001b[0;34m.\u001b[0m\u001b[0mmode\u001b[0m\u001b[0;34m:\u001b[0m\u001b[0;34m\u001b[0m\u001b[0;34m\u001b[0m\u001b[0m\n\u001b[1;32m    785\u001b[0m             \u001b[0;31m# Encoding\u001b[0m\u001b[0;34m\u001b[0m\u001b[0;34m\u001b[0m\u001b[0m\n\u001b[0;32m--> 786\u001b[0;31m             handle = open(\n\u001b[0m\u001b[1;32m    787\u001b[0m                 \u001b[0mhandle\u001b[0m\u001b[0;34m,\u001b[0m\u001b[0;34m\u001b[0m\u001b[0;34m\u001b[0m\u001b[0m\n\u001b[1;32m    788\u001b[0m                 \u001b[0mioargs\u001b[0m\u001b[0;34m.\u001b[0m\u001b[0mmode\u001b[0m\u001b[0;34m,\u001b[0m\u001b[0;34m\u001b[0m\u001b[0;34m\u001b[0m\u001b[0m\n",
      "\u001b[0;31mFileNotFoundError\u001b[0m: [Errno 2] No such file or directory: 'extracted_updated.csv'"
     ]
    }
   ],
   "source": [
    "import pandas as pd\n",
    "\n",
    "# Load the CSV file into a DataFrame\n",
    "df = pd.read_csv('extracted_updated.csv')\n",
    "\n",
    "# Display the DataFrame\n",
    "df.head()\n"
   ]
  },
  {
   "cell_type": "code",
   "execution_count": null,
   "id": "9766be13",
   "metadata": {
    "papermill": {
     "duration": null,
     "end_time": null,
     "exception": null,
     "start_time": null,
     "status": "pending"
    },
    "tags": []
   },
   "outputs": [],
   "source": []
  }
 ],
 "metadata": {
  "kernelspec": {
   "display_name": "Python 3 (ipykernel)",
   "language": "python",
   "name": "python3"
  },
  "language_info": {
   "codemirror_mode": {
    "name": "ipython",
    "version": 3
   },
   "file_extension": ".py",
   "mimetype": "text/x-python",
   "name": "python",
   "nbconvert_exporter": "python",
   "pygments_lexer": "ipython3",
   "version": "3.9.13"
  },
  "papermill": {
   "default_parameters": {},
   "duration": 7.820705,
   "end_time": "2024-02-15T02:12:57.501352",
   "environment_variables": {},
   "exception": true,
   "input_path": "Webscrape/Webscrapper.ipynb",
   "output_path": "Webscrape/Webscrapper_output.ipynb",
   "parameters": {},
   "start_time": "2024-02-15T02:12:49.680647",
   "version": "2.5.0"
  }
 },
 "nbformat": 4,
 "nbformat_minor": 5
}